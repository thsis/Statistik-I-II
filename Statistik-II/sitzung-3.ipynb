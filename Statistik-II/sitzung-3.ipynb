{
 "cells": [
  {
   "cell_type": "markdown",
   "metadata": {},
   "source": [
    "# Sitzung 3\n",
    "\n",
    "\n",
    "Diese Skripte sind ausschließlich als Zusatz-Material gedacht. Speziell für diejenigen unter Euch, die einen Einblick in das Programmieren gewinnen wollen. Wenn Du es also leid bist repetitive Tätigkeiten auszuführen und das lieber einer Maschine überlassen willst, bist Du hier genau richtig. \n",
    "\n",
    "<span style=\"color:red\"> Die Codes sind nicht für die Klausur relevant, genau genommen haben sie mit dem Lehrstuhl für Statistik __rein gar nichts__ zu tun. </span>\n",
    "\n",
    "Dieses mal lösen wir mal keine von den Übungsaufgaben. Stattdessen möchte ich Dir ein paar Einsichten aus der Vorlesung visuell unterfüttern und Dir gleichzeitig demonstrieren, was Jupyter Notebooks alles können. \n",
    "\n",
    "Also, zum Punkt: was haben wir vor? Wir wollen \n",
    "* die Gestalt der Binomialverteilung, der Poissonverteilung und der Normalverteilung kennenlernen, \n",
    "* eine Intuition für ihre Parameter entwickeln und \n",
    "* sie miteinander vergleichen.\n",
    "\n",
    "Und weil einfache Schaubilder langweilig sind, machen wir unsere *interaktiv*."
   ]
  },
  {
   "cell_type": "code",
   "execution_count": 1,
   "metadata": {},
   "outputs": [],
   "source": [
    "import numpy as np\n",
    "from matplotlib import pyplot as plt\n",
    "from ipywidgets import interact"
   ]
  },
  {
   "cell_type": "markdown",
   "metadata": {},
   "source": [
    "Nachdem wir die Module importiert haben, die wir brauchen werden, definieren wir zunächst die Wahrscheinlichkeitsfunktionen der Binomialverteilung und der Poissonverteilung sowie die Dichtefunktion der Normalverteilung.\n",
    "\n",
    "Zur Erinnerung:\n",
    "* Binomialverteilung $X \\sim Bin(n; p): \\quad f_B (x, n, p) = {N \\choose x} p^x \\cdot (1-p)^{n-x}$\n",
    "\n",
    "* Poissonverteilung $X \\sim Pois(\\lambda): \\quad f_{PO}(x, \\lambda) = \\frac{\\lambda^x}{x !} \\cdot \\exp(-\\lambda)$\n",
    "\n",
    "* Normalverteilung $X \\sim N(\\mu, \\sigma): \\quad f_N (x, \\mu, \\sigma) = \\frac{1}{\\sqrt{2\\pi\\sigma^2}} \\exp\\left( -\\frac{(x-\\mu)^2}{2 \\sigma^2} \\right)$"
   ]
  },
  {
   "cell_type": "code",
   "execution_count": 2,
   "metadata": {},
   "outputs": [],
   "source": [
    "def pbinom(x, p, n):\n",
    "    \"\"\"Berechne die Wahrscheinlichkeit, dass X=x, für X ~ Binom(n, p)\"\"\"\n",
    "    binom_coeff = (np.math.factorial(n)) / (np.math.factorial(x) * np.math.factorial(n - x))\n",
    "    return binom_coeff * p**x * (1-p)**(n-x)\n",
    "\n",
    "def ppois(x, l):\n",
    "    \"\"\"Berechne die Wahrscheinlichkeit, dass X=x, for X ~ Pois(l)\"\"\"\n",
    "    return l**x / np.math.factorial(x) * np.exp(-l)\n",
    "\n",
    "def pnorm(x, mu, sigma):\n",
    "    \"\"\"Berechne die Wahrscheinlichkeit, dass X<=x for X ~ N(mu, sigma)\"\"\"\n",
    "    return 1/np.sqrt(2*np.pi*sigma**2) * np.exp(-0.5 * ((x - mu) / sigma)**2)"
   ]
  },
  {
   "cell_type": "markdown",
   "metadata": {},
   "source": [
    "Als nächstes wollen wir eine Funktion definieren, die in der Lage ist die jeweiligen Verteilungen zu plotten. Und um es uns einfach zu machen, lassen wir nur die Lageparameter der Binomialverteilung als frei wählbare Argumente zu. Die anderen Parameter berchnen wir abhängig von denen der Binomialverteilung.\n",
    "\n",
    "Den Parameter $\\lambda$ der Poissonverteilung setzen wir gleich dem Erwartungswert der Binomialverteilung.\n",
    "\n",
    "$$\n",
    "\\begin{align}\n",
    "\\lambda &= E\\left[ X \\right], \\quad mit \\ X \\sim Bin(n, p) \\\\\n",
    "        &= n \\cdot p\n",
    "\\end{align}\n",
    "$$\n",
    "\n",
    "Ähnlich gehen wir bei den Parametern der Normalverteilung vor. Den Lageparameter setzen wir, wie oben, gleich dem Erwartungswert der Binomialverteilung. Den Streuungsparameter $\\sigma$ bestimmen wir auch möglichst so, dass er der Binomialverteilung gleicht. Wir wissen, dass \n",
    "\n",
    "$$\n",
    "\\begin{align*}\n",
    "Var(X) &= n \\cdot p \\cdot (1-p), \\quad mit \\ X \\sim Bin(n, p) \\\\\n",
    "\\Rightarrow \\sigma &= \\sqrt{Var(X)} \\\\\n",
    "                   &= \\sqrt{n \\cdot p \\cdot (1-p)}\n",
    "\\end{align*}\n",
    "$$"
   ]
  },
  {
   "cell_type": "code",
   "execution_count": 3,
   "metadata": {},
   "outputs": [],
   "source": [
    "def view_pdf(p, n, binomial=True, poisson=False, normal=False):\n",
    "    X_ = np.array(range(n+1))\n",
    "        \n",
    "    fig, ax = plt.subplots(ncols=1, nrows=1, figsize=(10, 10))\n",
    "    w = 0.5\n",
    "    \n",
    "    if binomial:\n",
    "        y_binom = [pbinom(x, p, n) for x in X_]\n",
    "        ax.bar(X_- w/2, y_binom, width=w, label=\"X ~ Bin({}, {})\".format(n, p))\n",
    "    \n",
    "    if poisson:\n",
    "        # Erwartungswert der Binomialverteilung wird der Lageparameter für die Poissonverteilung\n",
    "        l = n * p\n",
    "        y_pois = [ppois(x, l) for x in X_]\n",
    "        ax.bar(X_+ w/2, y_pois, width=w, label=\"X ~ Pois({:3.2})\".format(l))\n",
    "    \n",
    "    if normal:\n",
    "        mu = n * p\n",
    "        sigma = np.sqrt(n * p * (1-p))\n",
    "        Xnorm = np.linspace(0, n, num=1000)\n",
    "        Ynorm = pnorm(Xnorm, mu, sigma)\n",
    "        ax.plot(Xnorm, Ynorm, c=\"grey\", label=\"X ~ N({:3.2}, {:3.2})\".format(mu, sigma), linewidth=5)\n",
    "    \n",
    "    plt.title(\"Vergleich verschiedener Verteilungen\")\n",
    "    plt.ylabel(r\"$f(x)$\")\n",
    "    plt.xlabel(r\"$X=x$\")\n",
    "    plt.legend()\n",
    "    plt.show()"
   ]
  },
  {
   "cell_type": "markdown",
   "metadata": {},
   "source": [
    "Jetzt geht es nur noch darum, unsere Funktion interaktiv aufzurufen, dazu verwenden wir die `interact`-Funktion aus dem `ipywidgets`-Modul.\n",
    "\n",
    "Der übergeben wir unsere hausgemachte Funktion und können über die Argumente bestimmen, wie das user-interface (UI) aussehen soll. Das tun wir, indem wir der `interact`-Funktion Argumente übergeben, die denselben Namen haben, wie die Argumente unserer selbstgemachten Funktion. Der Datentyp des Arguments bestimmt die Art des UI-Elements. `Tupel` führen zu slidern, `Listen` führen zu dropdown-Menüs, Und `Booleans` führen zu checkboxen.\n",
    "\n",
    "Für `n` wollen wir einen slider der nur ganze Zahlen zulässt, die größer sind als 0 (sie sollten auch kleiner als 150 sein, aber das hat numerische Gründe). Dazu übergeben wir ein Tupel, dass wiederum  aus `int`s besteht - dem Python Datentyp für ganze Zahlen. Die erste Position steht für den minimalen Wert des sliders, die zweite für den maximalen Wert und der dritte steht für die Schrittweite.\n",
    "\n",
    "Für `p` wollen wir einen slider der Dezimalzahlen zwischen 0 und 1 erlaubt. Das funktioniert analog, nur dass unser Tupel jetzt aus `floats` besteht - dem Python-Datentyp für Dezimalzahlen."
   ]
  },
  {
   "cell_type": "code",
   "execution_count": 4,
   "metadata": {},
   "outputs": [
    {
     "data": {
      "application/vnd.jupyter.widget-view+json": {
       "model_id": "947f103330434982b635f5e3c65223fe",
       "version_major": 2,
       "version_minor": 0
      },
      "text/plain": [
       "interactive(children=(FloatSlider(value=0.5, description='p', max=1.0, step=0.001), IntSlider(value=50, descri…"
      ]
     },
     "metadata": {},
     "output_type": "display_data"
    }
   ],
   "source": [
    "interact(view_pdf, n=(1, 100, 1), p=(0.0, 1.0, 0.001), normal=False);"
   ]
  }
 ],
 "metadata": {
  "kernelspec": {
   "display_name": "Python 3",
   "language": "python",
   "name": "python3"
  },
  "language_info": {
   "codemirror_mode": {
    "name": "ipython",
    "version": 3
   },
   "file_extension": ".py",
   "mimetype": "text/x-python",
   "name": "python",
   "nbconvert_exporter": "python",
   "pygments_lexer": "ipython3",
   "version": "3.6.7"
  }
 },
 "nbformat": 4,
 "nbformat_minor": 2
}
