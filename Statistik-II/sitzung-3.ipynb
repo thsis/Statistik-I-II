{
 "cells": [
  {
   "cell_type": "markdown",
   "metadata": {},
   "source": [
    "# Sitzung 3\n",
    "\n",
    "\n",
    "Diese Skripte sind ausschließlich als Zusatz-Material gedacht. Speziell für diejenigen unter Euch, die einen Einblick in das Programmieren gewinnen wollen. Wenn Du es also leid bist repetitive Tätigkeiten auszuführen und das lieber einer Maschine überlassen willst, bist Du hier genau richtig. \n",
    "\n",
    "<span style=\"color:red\"> Die Codes sind nicht für die Klausur relevant, genau genommen haben sie mit dem Lehrstuhl für Statistik __rein gar nichts__ zu tun. </span>\n",
    "\n",
    "Dieses mal lösen wir mal keine von den Übungsaufgaben. Stattdessen möchte ich Dir ein paar Einsichten aus der Vorlesung visuell unterfüttern und Dir gleichzeitig demonstrieren, was Jupyter Notebooks alles können. \n",
    "\n",
    "Also, zum Punkt: was haben wir vor? Wir wollen \n",
    "* die Gestalt der Binomialverteilung, der Poissonverteilung und der Normalverteilung kennenlernen, \n",
    "* eine Intuition für ihre Parameter entwickeln und \n",
    "* sie miteinander vergleichen.\n",
    "\n",
    "Und weil einfache Schaubilder langweilig sind, machen wir unsere *interaktiv*."
   ]
  },
  {
   "cell_type": "code",
   "execution_count": 57,
   "metadata": {},
   "outputs": [],
   "source": [
    "import numpy as np\n",
    "from matplotlib import pyplot as plt\n",
    "from ipywidgets import interact"
   ]
  },
  {
   "cell_type": "markdown",
   "metadata": {},
   "source": [
    "Nachdem wir die Module importiert haben, die wir brauchen werden, definieren wir zunächst die Wahrscheinlichkeitsfunktionen der Binomialverteilung und der Poissonverteilung sowie die Dichtefunktion der Normalverteilung.\n",
    "\n",
    "Zur Erinnerung:\n",
    "* Binomialverteilung $X \\sim Bin(n; p): \\quad f_B (x, n, p) = {N \\choose x} p^x \\cdot (1-p)^{n-x}$\n",
    "\n",
    "* Poissonverteilung $X \\sim Pois(\\lambda): \\quad f_{PO}(x, \\lambda) = \\frac{\\lambda^x}{x !} \\cdot \\exp(-\\lambda)$\n",
    "\n",
    "* Normalverteilung $X \\sim N(\\mu, \\sigma): \\quad f_N (x, \\mu, \\sigma) = \\frac{1}{\\sqrt{2\\pi\\sigma^2}} \\exp\\left( -\\frac{(x-\\mu)^2}{2 \\sigma^2} \\right)$"
   ]
  },
  {
   "cell_type": "code",
   "execution_count": 35,
   "metadata": {},
   "outputs": [],
   "source": [
    "def pbinom(x, p, n):\n",
    "    \"\"\"Berechne die Wahrscheinlichkeit, dass X=x, für X ~ Binom(n, p)\"\"\"\n",
    "    binom_coeff = (np.math.factorial(n)) / (np.math.factorial(x) * np.math.factorial(n - x))\n",
    "    return binom_coeff * p**x * (1-p)**(n-x)\n",
    "\n",
    "def ppois(x, l):\n",
    "    \"\"\"Berechne die Wahrscheinlichkeit, dass X=x, for X ~ Pois(l)\"\"\"\n",
    "    return l**x / np.math.factorial(x) * np.exp(-l)\n",
    "\n",
    "def pnorm(x, mu, sigma):\n",
    "    \"\"\"Berechne die Wahrscheinlichkeit, dass X<=x for X ~ N(mu, sigma)\"\"\"\n",
    "    return 1/np.sqrt(2*np.pi*sigma**2) * np.exp(-0.5 * ((x - mu) / sigma)**2)"
   ]
  },
  {
   "cell_type": "markdown",
   "metadata": {},
   "source": [
    "Als nächstes wollen wir eine Funktion definieren, die in der Lage ist die jeweiligen Verteilungen zu plotten. "
   ]
  },
  {
   "cell_type": "code",
   "execution_count": 55,
   "metadata": {},
   "outputs": [],
   "source": [
    "def view_pdf(p, n, binomial=True, poisson=False, normal=False):\n",
    "    # Erwartungswert der Binomialverteilung wird der Lageparameter für die Poissonverteilung\n",
    "    l = n * p\n",
    "    \n",
    "    X_ = np.array(range(n))\n",
    "        \n",
    "    fig, ax = plt.subplots(ncols=1, nrows=1, figsize=(12, 12))\n",
    "    w = 0.5\n",
    "    \n",
    "    if binomial:\n",
    "        y_binom = [pbinom(x, p, n) for x in X_]\n",
    "        ax.bar(X_- w/2, y_binom, width=w, label=\"X ~ Bin({}, {})\".format(n, p))\n",
    "    \n",
    "    if poisson:\n",
    "        y_pois = [ppois(x, l) for x in X_]\n",
    "        ax.bar(X_+ w/2, y_pois, width=w, label=\"X ~ Pois({:3.2})\".format(l))\n",
    "    \n",
    "    if normal:\n",
    "        Xnorm = np.linspace(0, n, num=1000)\n",
    "        Ynorm = pnorm(Xnorm, l, np.sqrt(l))\n",
    "        ax.plot(Xnorm, Ynorm, c=\"grey\", label=\"X ~ N({:3.2}, {:3.2})\".format(l, l), linewidth=5)\n",
    "    \n",
    "    plt.title(\"Vergleich verschiedener Verteilungen\")\n",
    "    plt.ylabel(r\"$f(x)$\")\n",
    "    plt.xlabel(r\"$X=x$\")\n",
    "    plt.legend()\n",
    "    plt.show()"
   ]
  },
  {
   "cell_type": "code",
   "execution_count": 56,
   "metadata": {},
   "outputs": [
    {
     "data": {
      "application/vnd.jupyter.widget-view+json": {
       "model_id": "038af613930f4dd5a573f1f34a48d4de",
       "version_major": 2,
       "version_minor": 0
      },
      "text/plain": [
       "interactive(children=(FloatSlider(value=0.5, description='p', max=1.0, step=0.001), IntSlider(value=50, descri…"
      ]
     },
     "metadata": {},
     "output_type": "display_data"
    },
    {
     "data": {
      "text/plain": [
       "<function __main__.view_pdf(p, n, binomial=True, poisson=False, normal=False)>"
      ]
     },
     "execution_count": 56,
     "metadata": {},
     "output_type": "execute_result"
    }
   ],
   "source": [
    "interact(view_pdf, n=(1, 100, 1), p=(0.0, 1.0, 0.001), normal=False)"
   ]
  },
  {
   "cell_type": "code",
   "execution_count": null,
   "metadata": {},
   "outputs": [],
   "source": []
  }
 ],
 "metadata": {
  "kernelspec": {
   "display_name": "Python 3",
   "language": "python",
   "name": "python3"
  },
  "language_info": {
   "codemirror_mode": {
    "name": "ipython",
    "version": 3
   },
   "file_extension": ".py",
   "mimetype": "text/x-python",
   "name": "python",
   "nbconvert_exporter": "python",
   "pygments_lexer": "ipython3",
   "version": "3.6.6"
  }
 },
 "nbformat": 4,
 "nbformat_minor": 2
}
