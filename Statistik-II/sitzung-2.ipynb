{
 "cells": [
  {
   "cell_type": "markdown",
   "metadata": {},
   "source": [
    "# Sitzung 2\n",
    "\n",
    "Diese Skripte sind ausschließlich als Zusatz-Material gedacht. Speziell für diejenigen unter Euch, die einen Einblick in das Programmieren gewinnen wollen. Wenn Du es also leid bist repetitive Tätigkeiten auszuführen und das lieber einer Maschine überlassen willst, bist Du hier genau richtig. \n",
    "\n",
    "<span style=\"color:red\"> Die Codes sind nicht für die Klausur relevant, genau genommen haben sie mit dem Lehrstuhl für Statistik __rein gar nichts__ zu tun. </span>\n",
    "\n",
    "Dieses Mal versuchen wir die Wahrscheinlichkeitsfunktion einer diskreten, bivariaten Zufallsvariablen graphisch in einem 3 dimensionalen plot darzustellen.\n",
    "\n",
    "## Aufgabe  5-29\n",
    "\n",
    "Zunächst importieren wir die Module, die wir für diese Sitzung benötigen werden.\n",
    "* `numpy` ist die Standard-Bibliothek für mathematische Operationen in Python, das übliche Alias ist schlicht `np`.\n",
    "* `pyplot` ist die Standard-Bibliothek um Grafiken aller Art zu erstellen. Sie stammt aus dem Modul `matplotlib` und wird üblicherweise mit `plt` abgekürzt\n",
    "* Den letzten Import verwenden wir nur, um drei-dimensionale Achsen freizuschalten."
   ]
  },
  {
   "cell_type": "code",
   "execution_count": 1,
   "metadata": {},
   "outputs": [],
   "source": [
    "# Diese Zeile sorgt dafür, dass wir Plots später drehen können.\n",
    "%matplotlib widget\n",
    "\n",
    "import numpy as np\n",
    "from matplotlib import pyplot as plt\n",
    "from mpl_toolkits.mplot3d import Axes3D"
   ]
  },
  {
   "cell_type": "markdown",
   "metadata": {},
   "source": [
    "Wir definieren jetzt zuerst die Variablen aus der Aufgabe als Vektoren. Vektoren sind in `Python` als `numpy.array`s implementiert. Wir beginnen mit $X_1$:"
   ]
  },
  {
   "cell_type": "code",
   "execution_count": 2,
   "metadata": {},
   "outputs": [
    {
     "data": {
      "text/plain": [
       "array([1, 2])"
      ]
     },
     "execution_count": 2,
     "metadata": {},
     "output_type": "execute_result"
    }
   ],
   "source": [
    "X1 = np.array([1, 2])\n",
    "X1"
   ]
  },
  {
   "cell_type": "markdown",
   "metadata": {},
   "source": [
    "Analog dazu definieren wir $X_2$"
   ]
  },
  {
   "cell_type": "code",
   "execution_count": 3,
   "metadata": {},
   "outputs": [
    {
     "data": {
      "text/plain": [
       "array([1, 2, 3])"
      ]
     },
     "execution_count": 3,
     "metadata": {},
     "output_type": "execute_result"
    }
   ],
   "source": [
    "X2 = np.array([1, 2, 3])\n",
    "X2"
   ]
  },
  {
   "cell_type": "markdown",
   "metadata": {},
   "source": [
    "Die gemeinsame Wahrscheinlichkeit von $X_1$ und $X_2$ können wir als Matrix beschreiben. Da $X_1$ über 2 und $X_2$ über 3 Ausprägungen verfügt, wird die Matrix der gemeinsamen Wahrscheinlichkeiten über $2 \\cdot 3 = 6$ Felder verfügen (und ist in der Aufgabe als Tabelle gegeben). Matrizen kann man in `numpy` als genestete `array`s definieren. Dabei stehen die inneren `array`s für den Inhalt der Spalten und das äußere gibt an, wie die inneren `array`s zeilenweise geordnet werden sollen."
   ]
  },
  {
   "cell_type": "code",
   "execution_count": 4,
   "metadata": {},
   "outputs": [
    {
     "data": {
      "text/plain": [
       "array([[0.1, 0.3, 0.2],\n",
       "       [0.1, 0.1, 0.2]])"
      ]
     },
     "execution_count": 4,
     "metadata": {},
     "output_type": "execute_result"
    }
   ],
   "source": [
    "X1X2 = np.array([[0.1, 0.3, 0.2], \n",
    "                 [0.1, 0.1, 0.2]])\n",
    "X1X2"
   ]
  },
  {
   "cell_type": "markdown",
   "metadata": {},
   "source": [
    "Wir haben vor für zwei Aufgaben 3-dimensionale Grafiken zu zeichnen. Die Vorgehensweise wird für beide Grafiken die exakt gleiche sein. Jedes mal, wenn man gleichartige Aufgaben wiederholt ausführen will oder muss, eignet es sich beim Programmieren sogenannte **Funktionen** zu definieren. Funktionen sind Kurzschreibweisen für eine Abfolge von Befehlen. Das spart zum einen Schreibarbeit, viel wichtiger ist aber, dass Programmierer die Funktionen verwenden, ihren Code nur an einer Stelle verändern müssen, wenn er etwas anders machen soll.\n",
    "\n",
    "In `Python` deklariert man Definitionen von Funktionen mit dem keyword `def` und einem Namen für die Funktion, gefolgt von Klammern, die die Argumente der Funktion enthalten und einem Doppelpunkt. Die Anweisungen, die beim Aufruf der Funktion ablaufen sollen werden in einer neuen Zeile mit **4 Leerzeichen** eingeleitet.\n",
    "\n",
    "Unsere erste Funktion wird uns die gemeinsamen Wahrscheinlichkeiten von 2 Variablen in einem 3 dimensionalen Plot auswerfen."
   ]
  },
  {
   "cell_type": "code",
   "execution_count": 5,
   "metadata": {},
   "outputs": [],
   "source": [
    "def plot3d(X, Y, XY):\n",
    "    fig = plt.figure(figsize=(10, 10))\n",
    "    ax = fig.add_subplot(111, projection=\"3d\")\n",
    "\n",
    "    _x, _y = np.meshgrid(X, Y)\n",
    "    x, y = _x.ravel(), _y.ravel()\n",
    "    top = XY.T.ravel()\n",
    "\n",
    "    colors = plt.cm.jet(np.linspace(0,1,len(top)))\n",
    "\n",
    "    ax.bar3d(x, y, np.zeros_like(top), 1, 1, top, \n",
    "             color=colors, shade=True)\n",
    "    \n",
    "    return fig, ax    "
   ]
  },
  {
   "cell_type": "markdown",
   "metadata": {},
   "source": [
    "Doch was bedeuten jetzt die Anweisungen? \n",
    "\n",
    "Zunächst akzeptiert unsere Funktion genau 3 Argumente, die erste Zufallsvariable `X`, die zweite `Y` und eine Matrix der gemeinsamen Wahrscheinlichkeiten `XY`.\n",
    "\n",
    "Immer wenn man in `Python` Grafiken zeichnen möchte, muss man zuerst die Leinwand und die Fläche definieren, auf der gezeichnet werden soll. Immer? Nein. Bei den einfachsten plots, kann man das auch `Python` überlassen, dann kann man aber hinterher nicht die Achsen, Titel, usw. ändern. Außerdem gehört es zur guten Praxis der Leinwand und der Zeichenfläche einen Namen zu geben. Bei uns heißt die Leinwand `fig` und der fügen wir die Zeichenfläche `ax` hinzu. Des weiteren sagen wir auch, dass `ax` eine dreidimensionale Projektion sein soll.\n",
    "\n",
    "Als nächstes bilden wir mit der `meshgrid` Funktion aus dem `numpy` Modul alle möglichen Tupel, die man aus den Argumenten `X` und `Y` bilden kann (`_x` und `_y`) und speichern wieder einzeln als `array` von Koordinaten unter `x` und `y` ab. Die Matrix der gemeinsamen Wahrscheinlichkeiten `XY` enthält die Höhen der Koordinaten aus `x` und `y` (und wird somit unsere *z-Achse*). Wir müssen sie aber noch als Vector und in der richtigen Reihenfolge extrahieren, damit `x`, `y` und das resultierende `top` dieselbe Länge haben.\n",
    "\n",
    "Zur Dekoration und (wichtiger) zur besseren Unterscheidbarkeit der Ereignisse, werden wir sie verschieden einfärben. Dazu definieren wir eine sogenannte `colormap` die für jedes Tupel eine Farbe in eine Liste schreibt.\n",
    "\n",
    "Abschließend lassen wir die Wahrscheinlichkeitsfunktion zeichnen. Und weil wir es mit diskreten Zufallsvariablen zu tun haben, kann man die Wahrscheinlichkeit der einzelnen Ereignisse als 3-dimensionale Balken abbilden. Sobald wir fertig sind, lassen wir mit dem `return` keyword zu, dass die Leinwand und die Zeichenfläche aus der Funktion herausgespielt werden, so dass wir sie später weiter verwenden können. "
   ]
  },
  {
   "cell_type": "code",
   "execution_count": 6,
   "metadata": {},
   "outputs": [
    {
     "data": {
      "application/vnd.jupyter.widget-view+json": {
       "model_id": "fcb76fdd307e473594f44e3544945284",
       "version_major": 2,
       "version_minor": 0
      },
      "text/plain": [
       "FigureCanvasNbAgg()"
      ]
     },
     "metadata": {},
     "output_type": "display_data"
    },
    {
     "data": {
      "text/plain": [
       "Text(0.5, 0.92, 'Gemeinsame Wahrscheinlichkeit von $X_1$ und $X_2$')"
      ]
     },
     "execution_count": 6,
     "metadata": {},
     "output_type": "execute_result"
    }
   ],
   "source": [
    "fig, ax = plot3d(X1, X2, X1X2)\n",
    "\n",
    "ax.set_xticks([1, 2])\n",
    "ax.set_yticks([1, 2, 3])\n",
    "ax.set_zticks([0.1, 0.2, 0.3])\n",
    "ax.set_xlabel(\"$X_1$\")\n",
    "ax.set_ylabel(\"$X_2$\")\n",
    "ax.set_zlabel(\"$P(X_1 = x_1, X_2 = x_2)$\")\n",
    "ax.set_title(\"Gemeinsame Wahrscheinlichkeit von $X_1$ und $X_2$\")"
   ]
  },
  {
   "cell_type": "markdown",
   "metadata": {},
   "source": [
    "Wir konnten jetzt also unsere Funktion einfach mit den gewünschten Variablen aus der Aufgabe aufrufen und kriegen eine Grafik, die man auch noch drehen kann. Die Zeilen die unterhalb des Funktionsaufrufs stehen, verändern\n",
    "\n",
    "1. die Striche an der *x-*, *y-* und *z-Achse*.\n",
    "2. die Beschriftungen der *x-*, *y-* und *z-Achse*.\n",
    "3. den Titel der Zeichenfläche.\n",
    "\n",
    "Wir können das, weil wir in der Funktion die Variablen `return`en. Dadurch ist es uns möglich sie in zwei neuen Variablen `fig` und `ax` aufzufangen und nachträglich zu verändern."
   ]
  },
  {
   "cell_type": "markdown",
   "metadata": {},
   "source": [
    "## Aufgabe 5-30\n",
    "\n",
    "Hier passiert im Grunde dasselbe, zunächst definieren wir die Variablen aus der Aufgabenstellung:"
   ]
  },
  {
   "cell_type": "code",
   "execution_count": 7,
   "metadata": {},
   "outputs": [],
   "source": [
    "X1 = np.array([1, 2, 4])\n",
    "X2 = np.array([1, 2, 3])\n",
    "X1X2 = np.array([[0.1, 0.1, 0.2],\n",
    "                 [0.2, 0.1, 0.1],\n",
    "                 [0.1, 0, 0.1]])"
   ]
  },
  {
   "cell_type": "markdown",
   "metadata": {},
   "source": [
    "Und wieder rufen wir einfach nur die Funktion auf, die wir anfangs definiert haben, anstatt den ganzen Code nochmal schreiben zu müssen. Hier war das, zugegeben, vielleicht ein wenig overkill. Doch wann lohnt es sich eine Funktion zu schreiben? Es gibt eine gute Daumenregel, die bisher für mich funktioniert hat: wenn ich merke, dass ich drei mal ähnlichen Code geschrieben habe, der im Grunde immer das gleiche tut, dann lohnt es sich herauszufinden, welche Bausteine sich ändern und welche gleich bleiben. Dann kann man sehr einfach eine Funktion bilden, indem man den veränderlichen Teile mit abstrakten Variablen-Namen vergibt und die ganze Logik, die das Problem löst, in eine Funktion zu gießen."
   ]
  },
  {
   "cell_type": "code",
   "execution_count": 8,
   "metadata": {},
   "outputs": [
    {
     "data": {
      "application/vnd.jupyter.widget-view+json": {
       "model_id": "9b65d4dd4c9f4fbeb1cd0d651a9ba931",
       "version_major": 2,
       "version_minor": 0
      },
      "text/plain": [
       "FigureCanvasNbAgg()"
      ]
     },
     "metadata": {},
     "output_type": "display_data"
    },
    {
     "data": {
      "text/plain": [
       "Text(0.5, 0.92, 'Gemeinsame Wahrscheinlichkeit von $X_1$ und $X_2$')"
      ]
     },
     "execution_count": 8,
     "metadata": {},
     "output_type": "execute_result"
    }
   ],
   "source": [
    "fig, ax = plot3d(X1, X2, X1X2)\n",
    "\n",
    "ax.set_xticks([1, 2, 4])\n",
    "ax.set_yticks([1, 2, 3])\n",
    "ax.set_zticks([0.1, 0.2])\n",
    "ax.set_xlabel(\"$X_1$\")\n",
    "ax.set_ylabel(\"$X_2$\")\n",
    "ax.set_zlabel(\"$P(X_1 = x_1, X_2 = x_2)$\")\n",
    "ax.set_title(\"Gemeinsame Wahrscheinlichkeit von $X_1$ und $X_2$\")"
   ]
  }
 ],
 "metadata": {
  "kernelspec": {
   "display_name": "Python 3",
   "language": "python",
   "name": "python3"
  },
  "language_info": {
   "codemirror_mode": {
    "name": "ipython",
    "version": 3
   },
   "file_extension": ".py",
   "mimetype": "text/x-python",
   "name": "python",
   "nbconvert_exporter": "python",
   "pygments_lexer": "ipython3",
   "version": "3.6.6"
  }
 },
 "nbformat": 4,
 "nbformat_minor": 2
}
