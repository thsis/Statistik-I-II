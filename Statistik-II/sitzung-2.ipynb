{
 "cells": [
  {
   "cell_type": "markdown",
   "metadata": {},
   "source": [
    "# Sitzung 2\n",
    "\n",
    "Diese Skripte sind ausschließlich als Zusatz-Material gedacht. Speziell für diejenigen unter Euch, die einen Einblick in das Programmieren gewinnen wollen. Wenn Du es also leid bist repetitive Tätigkeiten auszuführen und das lieber einer Maschine überlassen willst, bist Du hier genau richtig. \n",
    "\n",
    "<span style=\"color:red\"> Die Codes sind nicht für die Klausur relevant, genau genommen haben sie mit dem Lehrstuhl für Statistik **rein gar nichts** zu tun. </span>\n",
    "\n",
    "## Aufgabe  5-29\n",
    "\n",
    "Zunächst importieren wir die Module, die wir für diese Sitzung benötigen werden.\n",
    "* `numpy` ist die Standard-Bibliothek für mathematische Operationen in Python, das übliche Alias ist schlicht `np`.\n",
    "* `pyplot` ist die Standard-Bibliothek um Grafiken aller Art zu erstellen. Sie stammt aus dem Modul `matplotlib` und wird üblicherweise mit `plt` abgekürzt"
   ]
  },
  {
   "cell_type": "code",
   "execution_count": 1,
   "metadata": {},
   "outputs": [],
   "source": [
    "%matplotlib widget\n",
    "\n",
    "import numpy as np\n",
    "from matplotlib import pyplot as plt\n",
    "from mpl_toolkits.mplot3d import Axes3D"
   ]
  },
  {
   "cell_type": "code",
   "execution_count": 2,
   "metadata": {},
   "outputs": [],
   "source": [
    "X1 = np.array([1, 2])\n",
    "X2 = np.array([1, 2, 3])\n",
    "X1X2 = np.array([[0.1, 0.3, 0.2], \n",
    "                 [0.1, 0.1, 0.2]])"
   ]
  },
  {
   "cell_type": "code",
   "execution_count": 3,
   "metadata": {},
   "outputs": [
    {
     "data": {
      "application/vnd.jupyter.widget-view+json": {
       "model_id": "b41185a28174412f85b862129da1e79d",
       "version_major": 2,
       "version_minor": 0
      },
      "text/plain": [
       "FigureCanvasNbAgg()"
      ]
     },
     "metadata": {},
     "output_type": "display_data"
    },
    {
     "data": {
      "text/plain": [
       "Text(0.5, 0.92, 'Gemeinsame Wahrscheinlichkeit von $X_1$ und $X_2$')"
      ]
     },
     "execution_count": 3,
     "metadata": {},
     "output_type": "execute_result"
    }
   ],
   "source": [
    "fig = plt.figure(figsize=(15, 15))\n",
    "ax = fig.add_subplot(111, projection=\"3d\")\n",
    "\n",
    "_x, _y = np.meshgrid(X1, X2)\n",
    "x, y = _x.ravel(), _y.ravel()\n",
    "top = X1X2.T.ravel()\n",
    "\n",
    "ax.bar3d(x, y, np.zeros(6), 1, 1, top, color=[\"g\", \"r\", \"y\", \"c\", \"orange\", \"b\"], shade=True)\n",
    "ax.set_xticks([1, 2])\n",
    "ax.set_yticks([1, 2, 3])\n",
    "ax.set_zticks([0.1, 0.2, 0.3])\n",
    "ax.set_xlabel(\"$X_1$\")\n",
    "ax.set_ylabel(\"$X_2$\")\n",
    "ax.set_zlabel(\"$P(X_1 = x_1, X_2 = x_2)$\")\n",
    "ax.set_title(\"Gemeinsame Wahrscheinlichkeit von $X_1$ und $X_2$\")"
   ]
  },
  {
   "cell_type": "markdown",
   "metadata": {},
   "source": [
    "## Aufgabe 5-30"
   ]
  },
  {
   "cell_type": "code",
   "execution_count": 4,
   "metadata": {},
   "outputs": [],
   "source": [
    "X1 = np.array([1, 2, 4])\n",
    "X2 = np.array([1, 2, 3])\n",
    "X1X2 = np.array([[0.1, 0.1, 0.2],\n",
    "                 [0.2, 0.1, 0.1],\n",
    "                 [0.1, 0, 0.1]])"
   ]
  },
  {
   "cell_type": "code",
   "execution_count": 5,
   "metadata": {},
   "outputs": [
    {
     "data": {
      "application/vnd.jupyter.widget-view+json": {
       "model_id": "2bdbc202f56f46c0920803a0713f2bca",
       "version_major": 2,
       "version_minor": 0
      },
      "text/plain": [
       "FigureCanvasNbAgg()"
      ]
     },
     "metadata": {},
     "output_type": "display_data"
    },
    {
     "data": {
      "text/plain": [
       "Text(0.5, 0.92, 'Gemeinsame Wahrscheinlichkeit von $X_1$ und $X_2$')"
      ]
     },
     "execution_count": 5,
     "metadata": {},
     "output_type": "execute_result"
    }
   ],
   "source": [
    "fig = plt.figure(figsize=(15, 15))\n",
    "ax = fig.add_subplot(111, projection=\"3d\")\n",
    "\n",
    "_x, _y = np.meshgrid(X1, X2)\n",
    "x, y = _x.ravel(), _y.ravel()\n",
    "top = X1X2.T.ravel()\n",
    "\n",
    "colors = plt.cm.jet(np.linspace(0,1,len(top)))\n",
    "\n",
    "ax.bar3d(x, y, np.zeros_like(top), 1, 1, top, \n",
    "         color=colors, shade=True)\n",
    "ax.set_xticks([1, 2, 4])\n",
    "ax.set_yticks([1, 2, 3])\n",
    "ax.set_zticks([0.1, 0.2])\n",
    "ax.set_xlabel(\"$X_1$\")\n",
    "ax.set_ylabel(\"$X_2$\")\n",
    "ax.set_zlabel(\"$P(X_1 = x_1, X_2 = x_2)$\")\n",
    "ax.set_title(\"Gemeinsame Wahrscheinlichkeit von $X_1$ und $X_2$\")"
   ]
  }
 ],
 "metadata": {
  "kernelspec": {
   "display_name": "Python 3",
   "language": "python",
   "name": "python3"
  },
  "language_info": {
   "codemirror_mode": {
    "name": "ipython",
    "version": 3
   },
   "file_extension": ".py",
   "mimetype": "text/x-python",
   "name": "python",
   "nbconvert_exporter": "python",
   "pygments_lexer": "ipython3",
   "version": "3.6.6"
  }
 },
 "nbformat": 4,
 "nbformat_minor": 2
}
