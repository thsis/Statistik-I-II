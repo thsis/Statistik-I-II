{
 "cells": [
  {
   "cell_type": "markdown",
   "metadata": {},
   "source": [
    "# Sitzung 1\n",
    "\n",
    "Diese Skripte sind ausschließlich als Zusatz-Material gedacht. Speziell für diejenigen unter Euch, die einen Einblick in das Programmieren gewinnen wollen. Wenn Du es also leid bist repetitive Tätigkeiten auszuführen und das lieber einer Maschine überlassen willst, bist Du hier genau richtig. \n",
    "\n",
    "<span style=\"color:red\"> Die Codes sind nicht für die Klausur relevant, genau genommen haben sie mit dem Lehrstuhl für Statistik **rein gar nichts** zu tun. </span>\n",
    "\n",
    "## Aufgabe 5-1: Kinder\n",
    "\n",
    "Als erstes überprüfen wir, wie viele Kombinationen maximal möglich sind. Da uns die Reihenfolge nicht interessiert, verwenden wir den Binomialkoeffizienten. Glücklicherweise ist dieser bereits in dem `scipy` Modul implementiert. Um die Funktion benutzen zu können, müssen wir sie zunächst in unsere Sitzung importieren."
   ]
  },
  {
   "cell_type": "code",
   "execution_count": 54,
   "metadata": {},
   "outputs": [
    {
     "data": {
      "text/plain": [
       "{8: [{'P1', 'P2', 'P3'}, {'P1', 'P4', 'P6'}, {'P1', 'P3', 'P5'}],\n",
       " 5: [{'P2', 'P5', 'P6'}, {'P2', 'P4', 'P5'}],\n",
       " 4: [{'P2', 'P3', 'P5'}, {'P4', 'P5', 'P6'}, {'P2', 'P4', 'P6'}],\n",
       " 2: [{'P3', 'P4', 'P6'}],\n",
       " 3: [{'P3', 'P5', 'P6'},\n",
       "  {'P2', 'P3', 'P6'},\n",
       "  {'P3', 'P4', 'P5'},\n",
       "  {'P2', 'P3', 'P4'}],\n",
       " 9: [{'P1', 'P2', 'P4'},\n",
       "  {'P1', 'P2', 'P6'},\n",
       "  {'P1', 'P4', 'P5'},\n",
       "  {'P1', 'P5', 'P6'}],\n",
       " 7: [{'P1', 'P3', 'P6'}, {'P1', 'P3', 'P4'}],\n",
       " 10: [{'P1', 'P2', 'P5'}]}"
      ]
     },
     "execution_count": 54,
     "metadata": {},
     "output_type": "execute_result"
    }
   ],
   "source": [
    "from scipy.special import binom\n",
    "\n",
    "# Anzahl Möglichkeiten: Binomialkoeffizient\n",
    "max_comb = binom(6, 3)\n",
    "print(max_comb)"
   ]
  },
  {
   "cell_type": "markdown",
   "metadata": {},
   "source": [
    "Um eine Lösung für unser Problem zu finden, müssen wir eine Formulierung finden, die mit den eingebauten Datenstrukturen kompatibel ist. Die einfachste Form mehrere Objekte zu speichern, ist eine Liste. Listen werden in Python mit eckigen Klammern deklariert. Will man hingegen Werte speichern, die auf andere Werte verweisen, bieten sich `dictionaries` an. Man sagt auch, `dictionaries` seien sogenannte **lookup-tables**. Wir werden ein solches `dictionary` verwenden, um schnell von einer Person auf die Anzahl ihrer Kinder zugreifen zu können."
   ]
  },
  {
   "cell_type": "code",
   "execution_count": null,
   "metadata": {},
   "outputs": [],
   "source": [
    "# Listen für Personen und Anzahl Kinder\n",
    "per = [\"P1\", \"P2\", \"P3\", \"P4\", \"P5\", \"P6\"]\n",
    "chil = [6, 2, 0, 1, 2, 1]\n",
    "# Dictionary, das den Personen, die Anzahl an Kindern zuordnet.\n",
    "per2chil = dict(zip(per, chil))"
   ]
  },
  {
   "cell_type": "markdown",
   "metadata": {},
   "source": [
    "Vorgehensweise:\n",
    "+ Zunächst speichern wir ein neues, leeres `dictionary` $X$ ab, das wir anschließend befüllen.\n",
    "+ Wir ziehen 3 Personen zufällig aus `per` und notieren die Gesamtanzahl $x$ an Kindern.\n",
    "+ Wenn wir den Wert für $x$ zum ersten Mal beobachten, fügen wir die zugehörige Kombination zu unserem `dictionary` hinzu.\n",
    "+ Wenn der Wert für $x$ bereits im dictionary auftaucht, prüfen wir ob die Kombination die zu diesem $x$ führte, bereits im `dictionary` enthalten ist - wenn nicht, fügen wir sie hinzu."
   ]
  },
  {
   "cell_type": "code",
   "execution_count": null,
   "metadata": {},
   "outputs": [],
   "source": [
    "# Ereignismenge und Kombinationen\n",
    "import random\n",
    "\n",
    "X = {}\n",
    "\n",
    "while sum([len(i) for i in X.values()]) < 20:\n",
    "    samp = set(random.sample(per, 3))\n",
    "    x = sum([per2chil[i] for i in samp]) \n",
    "\n",
    "    if x not in X:\n",
    "        X[x] = [samp]\n",
    "    elif samp not in X[x]:\n",
    "        X[x].append(samp)\n",
    "\n",
    "# Es ist nicht möglich, dass X den Wert 6 annimmt.\n",
    "# Wir fügen den Wert mit  Darstellung\n",
    "X[6] = []\n",
    "\n",
    "X"
   ]
  },
  {
   "cell_type": "code",
   "execution_count": null,
   "metadata": {},
   "outputs": [],
   "source": [
    "\n"
   ]
  },
  {
   "cell_type": "markdown",
   "metadata": {},
   "source": [
    "### Wahrscheinlichkeitsfunktion"
   ]
  },
  {
   "cell_type": "code",
   "execution_count": 55,
   "metadata": {},
   "outputs": [
    {
     "data": {
      "text/html": [
       "<div>\n",
       "<style scoped>\n",
       "    .dataframe tbody tr th:only-of-type {\n",
       "        vertical-align: middle;\n",
       "    }\n",
       "\n",
       "    .dataframe tbody tr th {\n",
       "        vertical-align: top;\n",
       "    }\n",
       "\n",
       "    .dataframe thead th {\n",
       "        text-align: right;\n",
       "    }\n",
       "</style>\n",
       "<table border=\"1\" class=\"dataframe\">\n",
       "  <thead>\n",
       "    <tr style=\"text-align: right;\">\n",
       "      <th>x</th>\n",
       "      <th>2</th>\n",
       "      <th>3</th>\n",
       "      <th>4</th>\n",
       "      <th>5</th>\n",
       "      <th>7</th>\n",
       "      <th>8</th>\n",
       "      <th>9</th>\n",
       "      <th>10</th>\n",
       "    </tr>\n",
       "  </thead>\n",
       "  <tbody>\n",
       "    <tr>\n",
       "      <th>P(x)</th>\n",
       "      <td>0.05</td>\n",
       "      <td>0.2</td>\n",
       "      <td>0.15</td>\n",
       "      <td>0.1</td>\n",
       "      <td>0.1</td>\n",
       "      <td>0.15</td>\n",
       "      <td>0.2</td>\n",
       "      <td>0.05</td>\n",
       "    </tr>\n",
       "  </tbody>\n",
       "</table>\n",
       "</div>"
      ],
      "text/plain": [
       "x       2    3     4    5    7     8    9     10\n",
       "P(x)  0.05  0.2  0.15  0.1  0.1  0.15  0.2  0.05"
      ]
     },
     "execution_count": 55,
     "metadata": {},
     "output_type": "execute_result"
    }
   ],
   "source": [
    "import pandas as pd\n",
    "\n",
    "Fx = [(key, len(value)/max_comb) for key, value in X.items()]\n",
    "X_prob = pd.DataFrame(Fx, columns=[\"x\", \"P(x)\"]).sort_values(\"x\").set_index(\"x\")\n",
    "X_prob.T"
   ]
  },
  {
   "cell_type": "code",
   "execution_count": 56,
   "metadata": {},
   "outputs": [
    {
     "data": {
      "text/plain": [
       "<matplotlib.axes._subplots.AxesSubplot at 0x7f4a2b7eb438>"
      ]
     },
     "execution_count": 56,
     "metadata": {},
     "output_type": "execute_result"
    },
    {
     "data": {
      "image/png": "[encoded data removed]",
      "text/plain": [
       "<Figure size 432x288 with 1 Axes>"
      ]
     },
     "metadata": {
      "needs_background": "light"
     },
     "output_type": "display_data"
    }
   ],
   "source": [
    "# Dieser Befehl bewirkt, dass plots automatisch dargestellt werden\n",
    "%matplotlib inline\n",
    "\n",
    "X_prob.plot(kind=\"bar\")"
   ]
  },
  {
   "cell_type": "markdown",
   "metadata": {},
   "source": [
    "### Verteilungsfunktion"
   ]
  },
  {
   "cell_type": "code",
   "execution_count": 58,
   "metadata": {},
   "outputs": [
    {
     "data": {
      "text/html": [
       "<div>\n",
       "<style scoped>\n",
       "    .dataframe tbody tr th:only-of-type {\n",
       "        vertical-align: middle;\n",
       "    }\n",
       "\n",
       "    .dataframe tbody tr th {\n",
       "        vertical-align: top;\n",
       "    }\n",
       "\n",
       "    .dataframe thead th {\n",
       "        text-align: right;\n",
       "    }\n",
       "</style>\n",
       "<table border=\"1\" class=\"dataframe\">\n",
       "  <thead>\n",
       "    <tr style=\"text-align: right;\">\n",
       "      <th>x</th>\n",
       "      <th>2</th>\n",
       "      <th>3</th>\n",
       "      <th>4</th>\n",
       "      <th>5</th>\n",
       "      <th>7</th>\n",
       "      <th>8</th>\n",
       "      <th>9</th>\n",
       "      <th>10</th>\n",
       "    </tr>\n",
       "  </thead>\n",
       "  <tbody>\n",
       "    <tr>\n",
       "      <th>P(x)</th>\n",
       "      <td>0.05</td>\n",
       "      <td>0.20</td>\n",
       "      <td>0.15</td>\n",
       "      <td>0.1</td>\n",
       "      <td>0.1</td>\n",
       "      <td>0.15</td>\n",
       "      <td>0.20</td>\n",
       "      <td>0.05</td>\n",
       "    </tr>\n",
       "    <tr>\n",
       "      <th>F(X &lt;= x)</th>\n",
       "      <td>0.05</td>\n",
       "      <td>0.25</td>\n",
       "      <td>0.40</td>\n",
       "      <td>0.5</td>\n",
       "      <td>0.6</td>\n",
       "      <td>0.75</td>\n",
       "      <td>0.95</td>\n",
       "      <td>1.00</td>\n",
       "    </tr>\n",
       "  </tbody>\n",
       "</table>\n",
       "</div>"
      ],
      "text/plain": [
       "x            2     3     4    5    7     8     9     10\n",
       "P(x)       0.05  0.20  0.15  0.1  0.1  0.15  0.20  0.05\n",
       "F(X <= x)  0.05  0.25  0.40  0.5  0.6  0.75  0.95  1.00"
      ]
     },
     "execution_count": 58,
     "metadata": {},
     "output_type": "execute_result"
    }
   ],
   "source": [
    "X_prob[\"F(X <= x)\"] = X_prob[\"P(x)\"].values.cumsum()\n",
    "X_prob.T"
   ]
  },
  {
   "cell_type": "code",
   "execution_count": 62,
   "metadata": {},
   "outputs": [
    {
     "data": {
      "text/plain": [
       "<matplotlib.axes._subplots.AxesSubplot at 0x7f4a209941d0>"
      ]
     },
     "execution_count": 62,
     "metadata": {},
     "output_type": "execute_result"
    },
    {
     "data": {
      "image/png": "[encoded data removed]",
      "text/plain": [
       "<Figure size 432x288 with 1 Axes>"
      ]
     },
     "metadata": {
      "needs_background": "light"
     },
     "output_type": "display_data"
    }
   ],
   "source": [
    "X_prob[\"F(X <= x)\"].plot(drawstyle=\"steps-post\", grid=True)"
   ]
  }
 ],
 "metadata": {
  "kernelspec": {
   "display_name": "Python 3",
   "language": "python",
   "name": "python3"
  },
  "language_info": {
   "codemirror_mode": {
    "name": "ipython",
    "version": 3
   },
   "file_extension": ".py",
   "mimetype": "text/x-python",
   "name": "python",
   "nbconvert_exporter": "python",
   "pygments_lexer": "ipython3",
   "version": "3.6.6"
  }
 },
 "nbformat": 4,
 "nbformat_minor": 2
}
