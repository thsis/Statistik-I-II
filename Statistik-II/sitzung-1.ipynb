{
 "cells": [
  {
   "cell_type": "markdown",
   "metadata": {},
   "source": [
    "# Sitzung 1\n",
    "\n",
    "Diese Skripte sind ausschließlich als Zusatz-Material gedacht. Speziell für diejenigen unter Euch, die einen Einblick in das Programmieren gewinnen wollen. Wenn Du es also leid bist repetitive Tätigkeiten auszuführen und das lieber einer Maschine überlassen willst, bist Du hier genau richtig. \n",
    "\n",
    "<span style=\"color:red\"> Die Codes sind nicht für die Klausur relevant, genau genommen haben sie mit dem Lehrstuhl für Statistik **rein gar nichts** zu tun. </span>\n",
    "\n",
    "## Aufgabe 5-1: Kinder\n",
    "\n",
    "Als erstes überprüfen wir, wie viele Kombinationen maximal möglich sind. Da uns die Reihenfolge nicht interessiert, verwenden wir den Binomialkoeffizienten. Glücklicherweise ist dieser bereits in dem `scipy` Modul implementiert. Um die Funktion benutzen zu können, müssen wir sie zunächst in unsere Sitzung importieren."
   ]
  },
  {
   "cell_type": "code",
   "execution_count": 2,
   "metadata": {},
   "outputs": [
    {
     "name": "stdout",
     "output_type": "stream",
     "text": [
      "20.0\n"
     ]
    }
   ],
   "source": [
    "from scipy.special import binom\n",
    "# Anzahl Möglichkeiten: Binomialkoeffizient\n",
    "max_comb = binom(6, 3)\n",
    "print(max_comb)"
   ]
  },
  {
   "cell_type": "markdown",
   "metadata": {},
   "source": [
    "Um eine Lösung für unser Problem zu finden, müssen wir eine Formulierung finden, die mit den eingebauten Datenstrukturen kompatibel ist. Die einfachste Form mehrere Objekte zu speichern, ist eine Liste. Listen werden in Python mit eckigen Klammern deklariert. Will man hingegen Werte speichern, die auf andere Werte verweisen, bieten sich `dictionaries` an. Man sagt auch, `dictionaries` seien sogenannte **lookup-tables**. Wir werden ein solches `dictionary` verwenden, um schnell von einer Person auf die Anzahl ihrer Kinder zugreifen zu können."
   ]
  },
  {
   "cell_type": "code",
   "execution_count": 3,
   "metadata": {},
   "outputs": [],
   "source": [
    "persons = [\"P1\", \"P2\", \"P3\", \"P4\", \"P5\", \"P6\"]\n",
    "children = [6, 2, 0, 1, 2, 1]\n",
    "persons2children = dict(zip(persons, children))"
   ]
  },
  {
   "cell_type": "markdown",
   "metadata": {},
   "source": [
    "Zunächst speichern wir alle möglichen permutationen der Länge 3 in einer Liste. Indem wir den Typ aller Permutationen zu einem `set` ändern, sagen wir Python das uns die Reihenfolge der Personen egal ist."
   ]
  },
  {
   "cell_type": "code",
   "execution_count": 4,
   "metadata": {},
   "outputs": [
    {
     "name": "stdout",
     "output_type": "stream",
     "text": [
      "120\n"
     ]
    }
   ],
   "source": [
    "import itertools\n",
    "permutations = [set(x) for x in itertools.permutations(persons, 3)]\n",
    "print(len(permutations))"
   ]
  },
  {
   "cell_type": "markdown",
   "metadata": {},
   "source": [
    "120?! Das sind viel mehr als 20. Das liegt daran, dass der eingebaute Befehl auf die Reihenfolge der Personen achtet, und unsere Änderungen mithilfe des `set` Befehls keine Einträge gelöscht hat. Wir müssen das unbedingt korrigieren. \n",
    "\n",
    "Und wenn wir schon dabei sind, können wir gleich die möglichen Ergebnisse der Zufallsvariablen $X$ berechnen."
   ]
  },
  {
   "cell_type": "code",
   "execution_count": 5,
   "metadata": {},
   "outputs": [],
   "source": [
    "X = {}\n",
    "for perm in permutations:\n",
    "    sum_children = sum([persons2children[p] for p in perm])\n",
    "    if sum_children not in X:\n",
    "        X[sum_children] = [perm]\n",
    "    elif perm not in X[sum_children]:\n",
    "        X[sum_children].append(perm)\n",
    "        \n",
    "# Die 6 müssen wir manuell hinzufügen, da sie sonst nicht auftauchen kann.\n",
    "X[6] = []"
   ]
  },
  {
   "cell_type": "markdown",
   "metadata": {},
   "source": [
    "### Wahrscheinlichkeitsfunktion\n",
    "\n",
    "Jetzt müssen wir nur noch die Wahrscheinlichkeiten und errechnen und deren kumulierte Summe für die Verteilungsfunktion bilden. Für die Wahrscheinlichkeitsfunktion werden wir eine Schleife über die Inhalte unseres `dictionaries` bilden. Schließlich hatten wir für jedes Ereignis von X die Ergebnisse gespeichert. Wir können diese jetzt einfach zählen und durch die Gesamtanzahl der Ergebnisse (20) teilen.\n",
    "\n"
   ]
  },
  {
   "cell_type": "code",
   "execution_count": 6,
   "metadata": {},
   "outputs": [],
   "source": [
    "probabilities = [(x, len(results) / max_comb) for x, results in X.items()]"
   ]
  },
  {
   "cell_type": "markdown",
   "metadata": {},
   "source": [
    "Das Modul `pandas` bietet uns eine schöne (und nützliche) Tabellen-Struktur. Wir werden daher die Wahrscheinlichkeiten in einen sogenannten `DataFrame` als Spalte speichern.\n",
    "\n",
    "Die kumulierten Wahrscheinlichkeiten kann man mit dem Befehl `cumsum` aus dem `numpy` Modul berechen, auch diese speichern wir als Spalte ab.\n",
    "\n",
    "Abschließend lassen wir uns den `DataFrame` im Querformat auswerfen."
   ]
  },
  {
   "cell_type": "code",
   "execution_count": 7,
   "metadata": {},
   "outputs": [
    {
     "data": {
      "text/html": [
       "<div>\n",
       "<style scoped>\n",
       "    .dataframe tbody tr th:only-of-type {\n",
       "        vertical-align: middle;\n",
       "    }\n",
       "\n",
       "    .dataframe tbody tr th {\n",
       "        vertical-align: top;\n",
       "    }\n",
       "\n",
       "    .dataframe thead th {\n",
       "        text-align: right;\n",
       "    }\n",
       "</style>\n",
       "<table border=\"1\" class=\"dataframe\">\n",
       "  <thead>\n",
       "    <tr style=\"text-align: right;\">\n",
       "      <th>x</th>\n",
       "      <th>2</th>\n",
       "      <th>3</th>\n",
       "      <th>4</th>\n",
       "      <th>5</th>\n",
       "      <th>6</th>\n",
       "      <th>7</th>\n",
       "      <th>8</th>\n",
       "      <th>9</th>\n",
       "      <th>10</th>\n",
       "    </tr>\n",
       "  </thead>\n",
       "  <tbody>\n",
       "    <tr>\n",
       "      <th>P(X=x)</th>\n",
       "      <td>0.05</td>\n",
       "      <td>0.20</td>\n",
       "      <td>0.15</td>\n",
       "      <td>0.1</td>\n",
       "      <td>0.0</td>\n",
       "      <td>0.1</td>\n",
       "      <td>0.15</td>\n",
       "      <td>0.20</td>\n",
       "      <td>0.05</td>\n",
       "    </tr>\n",
       "    <tr>\n",
       "      <th>F(x)</th>\n",
       "      <td>0.05</td>\n",
       "      <td>0.25</td>\n",
       "      <td>0.40</td>\n",
       "      <td>0.5</td>\n",
       "      <td>0.5</td>\n",
       "      <td>0.6</td>\n",
       "      <td>0.75</td>\n",
       "      <td>0.95</td>\n",
       "      <td>1.00</td>\n",
       "    </tr>\n",
       "  </tbody>\n",
       "</table>\n",
       "</div>"
      ],
      "text/plain": [
       "x         2     3     4    5    6    7     8     9     10\n",
       "P(X=x)  0.05  0.20  0.15  0.1  0.0  0.1  0.15  0.20  0.05\n",
       "F(x)    0.05  0.25  0.40  0.5  0.5  0.6  0.75  0.95  1.00"
      ]
     },
     "execution_count": 7,
     "metadata": {},
     "output_type": "execute_result"
    }
   ],
   "source": [
    "import pandas as pd\n",
    "\n",
    "# Der Index sorgt später für bedeutungsvolle labels\n",
    "X = pd.DataFrame(probabilities,\n",
    "                 columns=[\"x\", \"P(X=x)\"]).set_index(\"x\").sort_index()\n",
    "X[\"F(x)\"] = X[\"P(X=x)\"].values.cumsum()\n",
    "X.T"
   ]
  },
  {
   "cell_type": "markdown",
   "metadata": {},
   "source": [
    "Um Graphiken und Plots zu zeichnen, haben wir zwei Möglichkeiten. Am einfachsten ist es, die `plot`-Methode eines `DataFrames` zu benutzen. Für die gängigsten Anwendungen ist das ausreichend und vor allem schnell erledigt."
   ]
  },
  {
   "cell_type": "code",
   "execution_count": 47,
   "metadata": {},
   "outputs": [
    {
     "data": {
      "image/png": "[encoded data removed]",
      "text/plain": [
       "<Figure size 432x288 with 1 Axes>"
      ]
     },
     "metadata": {
      "needs_background": "light"
     },
     "output_type": "display_data"
    }
   ],
   "source": [
    "from matplotlib import pyplot as plt\n",
    "# Plot pdf\n",
    "X[\"P(X=x)\"].plot(kind=\"bar\",\n",
    "                 color=\"orange\",\n",
    "                 title=\"Wahrscheinlickeitsfunktion von X\")\n",
    "plt.xlabel(r\"$x$\")\n",
    "plt.ylabel(r\"$P(X=x)$\")\n",
    "plt.show()"
   ]
  },
  {
   "cell_type": "markdown",
   "metadata": {},
   "source": [
    "### Verteilungsfunktion\n",
    "\n",
    "Manche Plots werden hingegen eher selten verwendet (und empirische Verteilungsfunktionen sind so eine Seltenheit). Daher muss man auf die Standard-Plotting-Bibliothek `pyplot` zurückgreifen. Damit ist dann aber so gut wie alles möglich :)"
   ]
  },
  {
   "cell_type": "code",
   "execution_count": 38,
   "metadata": {},
   "outputs": [
    {
     "data": {
      "image/png": "[encoded data removed]",
      "text/plain": [
       "<Figure size 432x288 with 1 Axes>"
      ]
     },
     "metadata": {
      "needs_background": "light"
     },
     "output_type": "display_data"
    }
   ],
   "source": [
    "x = [0, *X.index.values.tolist(), 12]\n",
    "y = [0, *X[\"F(x)\"].values.tolist(), 1.0]\n",
    "\n",
    "plt.step(x, y, where=\"post\")\n",
    "plt.xlabel(r\"$x$\")\n",
    "plt.ylabel(r\"$F(x)$\")\n",
    "plt.title(\"Verteilungsfunktion von X\")\n",
    "plt.show()"
   ]
  }
 ],
 "metadata": {
  "kernelspec": {
   "display_name": "Python 3",
   "language": "python",
   "name": "python3"
  },
  "language_info": {
   "codemirror_mode": {
    "name": "ipython",
    "version": 3
   },
   "file_extension": ".py",
   "mimetype": "text/x-python",
   "name": "python",
   "nbconvert_exporter": "python",
   "pygments_lexer": "ipython3",
   "version": "3.6.7"
  }
 },
 "nbformat": 4,
 "nbformat_minor": 2
}
