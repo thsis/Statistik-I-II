{
 "cells": [
  {
   "cell_type": "markdown",
   "metadata": {},
   "source": [
    "# Sitzung 7\n",
    "\n",
    "Diese Skripte sind ausschließlich als Zusatz-Material gedacht. Speziell für diejenigen unter Euch, die einen Einblick in das Programmieren gewinnen wollen. Wenn Du es also leid bist repetitive Tätigkeiten auszuführen und das lieber einer Maschine überlassen willst, bist Du hier genau richtig. \n",
    "\n",
    "<span style=\"color:red\"> Die Codes sind nicht für die Klausur relevant, genau genommen haben sie mit dem Lehrstuhl für Statistik __rein gar nichts__ zu tun. </span>\n",
    "\n",
    "---"
   ]
  },
  {
   "cell_type": "code",
   "execution_count": 1,
   "metadata": {},
   "outputs": [],
   "source": [
    "import numpy as np\n",
    "from scipy.stats import norm\n",
    "from seaborn import kdeplot\n",
    "from matplotlib import pyplot as plt\n",
    "from ipywidgets import interactive"
   ]
  },
  {
   "cell_type": "markdown",
   "metadata": {},
   "source": [
    "## Der zentrale Grenzwertsatz"
   ]
  },
  {
   "cell_type": "code",
   "execution_count": 2,
   "metadata": {},
   "outputs": [
    {
     "data": {
      "text/plain": [
       "array([0.56231943, 0.66360222, 0.26848455, 0.90723362, 0.80998811,\n",
       "       0.3410233 , 0.82562409, 0.97214023, 0.28764677, 0.63438074])"
      ]
     },
     "execution_count": 2,
     "metadata": {},
     "output_type": "execute_result"
    }
   ],
   "source": [
    "np.random.uniform(size=10)"
   ]
  },
  {
   "cell_type": "code",
   "execution_count": 3,
   "metadata": {},
   "outputs": [
    {
     "name": "stdout",
     "output_type": "stream",
     "text": [
      "Werte von x:\n",
      " [0.99552814 0.00116408 0.31921785 0.95775024 0.60462793]\n",
      "Mittelwert von x: 0.5756576467177826\n"
     ]
    }
   ],
   "source": [
    "x = np.random.uniform(size=5)\n",
    "x_bar = x.mean()\n",
    "print(\"Werte von x:\\n\", x)\n",
    "print(\"Mittelwert von x:\", x_bar)"
   ]
  },
  {
   "cell_type": "code",
   "execution_count": 4,
   "metadata": {},
   "outputs": [
    {
     "name": "stdout",
     "output_type": "stream",
     "text": [
      "[[0.52512296 0.52032329 0.7629482  0.18813001 0.83103334]\n",
      " [0.37148371 0.2867949  0.81405914 0.64394126 0.35256341]\n",
      " [0.91585338 0.65202656 0.40114155 0.54652867 0.81274563]]\n"
     ]
    }
   ],
   "source": [
    "X = np.random.uniform(size=(3, 5))\n",
    "print(X)"
   ]
  },
  {
   "cell_type": "code",
   "execution_count": 5,
   "metadata": {},
   "outputs": [
    {
     "data": {
      "text/plain": [
       "array([0.56551156, 0.49376848, 0.66565916])"
      ]
     },
     "execution_count": 5,
     "metadata": {},
     "output_type": "execute_result"
    }
   ],
   "source": [
    "X.mean(axis=1)"
   ]
  },
  {
   "cell_type": "markdown",
   "metadata": {},
   "source": [
    "### Wie ist der Mittelwert $\\bar{X}$ verteilt?"
   ]
  },
  {
   "cell_type": "code",
   "execution_count": 6,
   "metadata": {},
   "outputs": [
    {
     "data": {
      "application/vnd.jupyter.widget-view+json": {
       "model_id": "8ec68f7b1d704d82bb9f4b14e6c9f39f",
       "version_major": 2,
       "version_minor": 0
      },
      "text/plain": [
       "interactive(children=(IntSlider(value=5, description='sample_size', max=1000, min=1), Output()), _dom_classes=…"
      ]
     },
     "metadata": {},
     "output_type": "display_data"
    }
   ],
   "source": [
    "def mean_viewer(sample_size=5):\n",
    "    X = np.random.uniform(size=(10000, sample_size))\n",
    "    # empirical\n",
    "    X_bar = X.mean(axis=1)\n",
    "    \n",
    "    fig, ax = plt.subplots(1, 1, figsize=(10, 5))\n",
    "    kdeplot(X_bar, label=\"empirische Dichte\", ax=ax)\n",
    "    \n",
    "    # theoretical\n",
    "    mu = X_bar.mean()\n",
    "    sigma = np.std(X_bar)\n",
    "    x = np.linspace(0, 1, 100)\n",
    "    f_x = 1/np.sqrt(2*np.pi*sigma**2)*np.exp(-0.5*((x-mu)/sigma)**2)\n",
    "    ax.plot(x, f_x, \"--\", c=\"red\", alpha=0.5,\n",
    "            label=\"$Z \\sim N({:3.3}, {:3.3})$\".format(mu, sigma))\n",
    "    plt.title(\"Beispiel: zentraler Grenzwertsatz\")\n",
    "    plt.legend()\n",
    "    \n",
    "interactive(mean_viewer,\n",
    "            sample_size=(1, 1000, 1))"
   ]
  },
  {
   "cell_type": "markdown",
   "metadata": {},
   "source": [
    "---\n",
    "## Monte-Carlo Simulation zu Aufgabe 7-8:\n",
    "\n",
    "Die Zufallsvariable $X_i$: Anzahl Tippfehler auf Seite $i$ hat die folgende Wahrscheinlichkeitsfunktion:\n",
    "\n",
    "|$X=x$   | 1   | 2   | 3   |\n",
    "|:-------|:---:|:---:|:---:|\n",
    "|$P(X=x)$| 0.7 | 0.2 | 0.1 |\n",
    "\n",
    "Das macht es schwierig eine geschlossene Lösung für die Zufallsvariable $Y=\\sum\\limits_{i=1}^{1100} X_i$ zu finden. Und immer wenn es schwierig wird etwas zu berechnen, ist es eine gute Idee den Sachverhalt erst einmal zu simulieren - das geht nämlich oft erstaunlich einfach.\n",
    "\n",
    "Als Simulation bezeichnen wir alle Rechnungen, die zusätzlich zu den Grundrechenarten auch noch das Ziehen von *Zufallszahlen* erlauben. Der Vorteil von solchen Methoden ist, dass wir sehr intuitiv vorgehen können - im Grunde probieren wir unser Experiment sehr oft und sehen uns danach an, was im Schnitt passiert ist.\n",
    "\n",
    "Die Anzahl Tippfehler für eine Seite sind ein Zufallsexperiment und wir können es mit diesem Ausdruck ausführen:"
   ]
  },
  {
   "cell_type": "code",
   "execution_count": 7,
   "metadata": {},
   "outputs": [
    {
     "data": {
      "text/plain": [
       "3"
      ]
     },
     "execution_count": 7,
     "metadata": {},
     "output_type": "execute_result"
    }
   ],
   "source": [
    "np.random.choice([1, 2, 3], p=[0.7, 0.2, 0.1], replace=True)"
   ]
  },
  {
   "cell_type": "markdown",
   "metadata": {},
   "source": [
    "Wir können es nicht nur einmal ausführen, sondern mehrfach - genau genommen wollen wir das Experiment für alle 1100 Seiten ausführen, um eine Realisation $y$ für die Zufallsvariable $Y$ zu bekommen."
   ]
  },
  {
   "cell_type": "code",
   "execution_count": 8,
   "metadata": {},
   "outputs": [
    {
     "name": "stdout",
     "output_type": "stream",
     "text": [
      "Realisationen für X_i: [1 2 1 ... 3 1 1]\n",
      "Realisation für Y: 1526\n"
     ]
    }
   ],
   "source": [
    "xi_list = np.random.choice([1, 2, 3], p=[0.7, 0.2, 0.1], replace=True, size=1100)\n",
    "print(\"Realisationen für X_i:\", xi_list)\n",
    "\n",
    "y = sum(xi_list)\n",
    "print(\"Realisation für Y:\", y)"
   ]
  },
  {
   "cell_type": "markdown",
   "metadata": {},
   "source": [
    "Ok, wir haben das jetzt genau einmal durchgeführt, das hilft uns noch relativ wenig. Wie wäre es, wenn wir das gleiche Experiment sehr oft durchführen würden? Gäbe es dann Muster, würden immer ähnliche Werte für $Y=y$ heraus kommen oder würden sie sehr verschieden voneinander sein?\n",
    "\n",
    "Das sind alles Fragen, die uns die Verteilung von $Y$ beantworten könnte. Und genau die wollen wir jetzt schätzen. "
   ]
  },
  {
   "cell_type": "code",
   "execution_count": 9,
   "metadata": {},
   "outputs": [
    {
     "name": "stdout",
     "output_type": "stream",
     "text": [
      "[1517 1569 1525 ... 1501 1515 1573]\n"
     ]
    }
   ],
   "source": [
    "X_i = np.random.choice([1, 2, 3], p=[0.7, 0.2, 0.1], replace=True, size=(100000, 1100))\n",
    "Y = X_i.sum(axis=1)\n",
    "print(Y)"
   ]
  },
  {
   "cell_type": "markdown",
   "metadata": {},
   "source": [
    "Wir haben jetzt unseren simulierten Autor satte 100000 Romane schreiben lassen (`X_i`), seine Tippfehler gezählt und sie in `Y` abgespeichert. Der nächste Schritt ist nun, die Werte zu sortieren, und zu zählen wie oft sie vorkommen."
   ]
  },
  {
   "cell_type": "code",
   "execution_count": 24,
   "metadata": {},
   "outputs": [
    {
     "name": "stdout",
     "output_type": "stream",
     "text": [
      "[(1457, 4), (1459, 1), (1460, 3), (1461, 4), (1462, 2), (1463, 3)]\n"
     ]
    }
   ],
   "source": [
    "vals, counts = np.unique(Y, return_counts=True)\n",
    "print(list(zip(vals, counts))[:6])"
   ]
  },
  {
   "cell_type": "markdown",
   "metadata": {},
   "source": [
    "Das Objekt `vals` enthält die Werte in `Y` (ohne Wiederholungen) und das Objekt `counts` enthält die absoluten Häufigkeiten der Werte in `vals`. Dabei steht die erste Stelle in `counts` für den Wert an der ersten Stelle von `vals`, die zweite Stelle von `counts` steht für die absolute Häufigkeit für den Wert der an der zweiten Stelle von `vals` steht, und so weiter...\n",
    "\n",
    "Relative Häufigkeiten bekommen wir, indem wir counts durch die Anzahl unserer Experimente teilen: `counts / 100000`\n",
    "\n",
    "Damit könnten wir schon unsere Verteilungsfunktion aufstellen. Wir haben alles was wir brauchen. Es ist aber immer gut unsere Approximationen auf Herz und Nieren zu prüfen. Zur Erinnerung, wir haben die Verteilung von $Y$ mit dem zentralen Grenzwertsatz approximiert und großmäulig behauptet:\n",
    "\n",
    "$$\n",
    "Y \\stackrel{approx.}{\\sim} N(1540, 22)\n",
    "$$\n",
    "\n",
    "Wollen wir doch mal sehen..."
   ]
  },
  {
   "cell_type": "code",
   "execution_count": 25,
   "metadata": {},
   "outputs": [],
   "source": [
    "y = np.linspace(1450, 1625, 100)\n",
    "pdf_y = norm.pdf(y, 1540, 22)"
   ]
  },
  {
   "cell_type": "code",
   "execution_count": 27,
   "metadata": {},
   "outputs": [
    {
     "data": {
      "image/png": "[encoded data removed]",
      "text/plain": [
       "<Figure size 792x360 with 1 Axes>"
      ]
     },
     "metadata": {
      "needs_background": "light"
     },
     "output_type": "display_data"
    }
   ],
   "source": [
    "plt.figure(figsize=(11, 5))\n",
    "# Zuerst die Approximation.\n",
    "plt.plot(y, pdf_y, \"--\",\n",
    "         color=\"red\", label=\"Approximation mit $N(1540; 22)$\")\n",
    "# Dann die simulierten Werte.\n",
    "plt.bar(vals, counts/100000, width=1, alpha=0.5,\n",
    "        label=\"Empirische Wahrscheinlichkeiten\")\n",
    "\n",
    "plt.title(\"Vergleich: Approximation vs. Simulation\")\n",
    "plt.legend();"
   ]
  },
  {
   "cell_type": "markdown",
   "metadata": {},
   "source": [
    "Wir sehen, im Großen und Ganzen machen wir keinen großen Fehler, wenn wir den zentralen Grenzwertsatz anwenden. Das liegt daran, dass in diesem Beispiel alle Voraussetzungen und Annahmen des zentralen Grenzwertsatzes erfüllt sind:\n",
    "* die $X_i$ sind unabhängig und identisch verteilt\n",
    "* die $X_i$ haben eine wohldefinierten Erwartungswert und Varianz (d.h. $E(X_i)$ und $Var(X_i) \\neq \\infty$)\n",
    "* $n$ ist ziemlich groß ($n \\leftarrow \\infty)$"
   ]
  }
 ],
 "metadata": {
  "kernelspec": {
   "display_name": "Python 3",
   "language": "python",
   "name": "python3"
  },
  "language_info": {
   "codemirror_mode": {
    "name": "ipython",
    "version": 3
   },
   "file_extension": ".py",
   "mimetype": "text/x-python",
   "name": "python",
   "nbconvert_exporter": "python",
   "pygments_lexer": "ipython3",
   "version": "3.6.7"
  }
 },
 "nbformat": 4,
 "nbformat_minor": 2
}
