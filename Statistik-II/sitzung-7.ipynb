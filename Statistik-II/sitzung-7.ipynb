{
 "cells": [
  {
   "cell_type": "markdown",
   "metadata": {},
   "source": [
    "# Sitzung 7\n",
    "\n",
    "Diese Skripte sind ausschließlich als Zusatz-Material gedacht. Speziell für diejenigen unter Euch, die einen Einblick in das Programmieren gewinnen wollen. Wenn Du es also leid bist repetitive Tätigkeiten auszuführen und das lieber einer Maschine überlassen willst, bist Du hier genau richtig. \n",
    "\n",
    "<span style=\"color:red\"> Die Codes sind nicht für die Klausur relevant, genau genommen haben sie mit dem Lehrstuhl für Statistik __rein gar nichts__ zu tun. </span>\n",
    "\n",
    "---"
   ]
  },
  {
   "cell_type": "code",
   "execution_count": 46,
   "metadata": {},
   "outputs": [],
   "source": [
    "import numpy as np\n",
    "from seaborn import kdeplot\n",
    "from matplotlib import pyplot as plt\n",
    "from ipywidgets import interactive"
   ]
  },
  {
   "cell_type": "markdown",
   "metadata": {},
   "source": [
    "## Der zentrale Grenzwertsatz"
   ]
  },
  {
   "cell_type": "code",
   "execution_count": 27,
   "metadata": {},
   "outputs": [
    {
     "name": "stdout",
     "output_type": "stream",
     "text": [
      "Werte von x:\n",
      " [0.01517029 0.53292296 0.98158077 0.33336742 0.19631933]\n",
      "Mittelwert von x: 0.41187215500513047\n"
     ]
    }
   ],
   "source": [
    "x = np.random.uniform(size=5)\n",
    "x_bar = x.mean()\n",
    "print(\"Werte von x:\\n\", x)\n",
    "print(\"Mittelwert von x:\", x_bar)"
   ]
  },
  {
   "cell_type": "code",
   "execution_count": 28,
   "metadata": {},
   "outputs": [
    {
     "name": "stdout",
     "output_type": "stream",
     "text": [
      "[[0.1115667  0.98011276 0.30601222 0.95981864 0.91256209]\n",
      " [0.79240368 0.61864478 0.48331703 0.22517061 0.22329809]\n",
      " [0.62418115 0.89317627 0.36085467 0.520462   0.47902275]]\n"
     ]
    }
   ],
   "source": [
    "X = np.random.uniform(size=(3, 5))\n",
    "print(X)"
   ]
  },
  {
   "cell_type": "code",
   "execution_count": 35,
   "metadata": {},
   "outputs": [
    {
     "data": {
      "text/plain": [
       "array([0.65401448, 0.46856684, 0.57553937])"
      ]
     },
     "execution_count": 35,
     "metadata": {},
     "output_type": "execute_result"
    }
   ],
   "source": [
    "X.mean(axis=1)"
   ]
  },
  {
   "cell_type": "markdown",
   "metadata": {},
   "source": [
    "### Wie ist der Mittelwert $\\bar{X}$ verteilt?"
   ]
  },
  {
   "cell_type": "code",
   "execution_count": 65,
   "metadata": {},
   "outputs": [
    {
     "data": {
      "application/vnd.jupyter.widget-view+json": {
       "model_id": "041bb23154864850b96d7c7fa83c24b3",
       "version_major": 2,
       "version_minor": 0
      },
      "text/plain": [
       "interactive(children=(IntSlider(value=3, description='samples', max=100000, min=2), IntSlider(value=5, descrip…"
      ]
     },
     "metadata": {},
     "output_type": "display_data"
    }
   ],
   "source": [
    "def mean_viewer(samples=3, sample_size=5):\n",
    "    X = np.random.uniform(size=(samples, sample_size))\n",
    "    # empirical\n",
    "    X_bar = X.mean(axis=1)\n",
    "    \n",
    "    fig, ax = plt.subplots(1, 1, figsize=(10, 5))\n",
    "    kdeplot(X_bar.tolist(), label=\"empirische Dichte\", ax=ax)\n",
    "    \n",
    "    # theoretical\n",
    "    mu = X_bar.mean()\n",
    "    sigma = np.std(X_bar)\n",
    "    x = np.linspace(0, 1, 100)\n",
    "    f_x = 1/np.sqrt(2*np.pi*sigma**2)*np.exp(-0.5*((x-mu)/sigma)**2)\n",
    "    ax.plot(x, f_x, \"--\", c=\"red\", alpha=0.5,\n",
    "            label=\"$Z \\sim N({:3.3}, {:3.3})$\".format(mu, sigma))\n",
    "    plt.title(\"Beispiel: zentraler Grenzwertsatz\")\n",
    "    plt.legend()\n",
    "    \n",
    "interactive(mean_viewer,\n",
    "            samples=(2, 100000, 1),\n",
    "            sample_size=(1, 1000, 1))"
   ]
  }
 ],
 "metadata": {
  "kernelspec": {
   "display_name": "Python 3",
   "language": "python",
   "name": "python3"
  },
  "language_info": {
   "codemirror_mode": {
    "name": "ipython",
    "version": 3
   },
   "file_extension": ".py",
   "mimetype": "text/x-python",
   "name": "python",
   "nbconvert_exporter": "python",
   "pygments_lexer": "ipython3",
   "version": "3.6.7"
  }
 },
 "nbformat": 4,
 "nbformat_minor": 2
}
