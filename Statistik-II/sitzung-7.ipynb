{
 "cells": [
  {
   "cell_type": "markdown",
   "metadata": {},
   "source": [
    "# Sitzung 7\n",
    "\n",
    "Diese Skripte sind ausschließlich als Zusatz-Material gedacht. Speziell für diejenigen unter Euch, die einen Einblick in das Programmieren gewinnen wollen. Wenn Du es also leid bist repetitive Tätigkeiten auszuführen und das lieber einer Maschine überlassen willst, bist Du hier genau richtig. \n",
    "\n",
    "<span style=\"color:red\"> Die Codes sind nicht für die Klausur relevant, genau genommen haben sie mit dem Lehrstuhl für Statistik __rein gar nichts__ zu tun. </span>\n",
    "\n",
    "---"
   ]
  },
  {
   "cell_type": "code",
   "execution_count": 1,
   "metadata": {},
   "outputs": [],
   "source": [
    "import numpy as np\n",
    "from seaborn import kdeplot\n",
    "from matplotlib import pyplot as plt\n",
    "from ipywidgets import interactive"
   ]
  },
  {
   "cell_type": "markdown",
   "metadata": {},
   "source": [
    "## Der zentrale Grenzwertsatz"
   ]
  },
  {
   "cell_type": "code",
   "execution_count": 2,
   "metadata": {},
   "outputs": [
    {
     "data": {
      "text/plain": [
       "array([0.75948109, 0.0586962 , 0.75987767, 0.11929743, 0.59091421,\n",
       "       0.00985418, 0.95768568, 0.25451726, 0.33633793, 0.56206989])"
      ]
     },
     "execution_count": 2,
     "metadata": {},
     "output_type": "execute_result"
    }
   ],
   "source": [
    "np.random.uniform(size=10)"
   ]
  },
  {
   "cell_type": "code",
   "execution_count": 3,
   "metadata": {},
   "outputs": [
    {
     "name": "stdout",
     "output_type": "stream",
     "text": [
      "Werte von x:\n",
      " [0.13235104 0.18870118 0.7668897  0.24447277 0.12790922]\n",
      "Mittelwert von x: 0.2920647787733759\n"
     ]
    }
   ],
   "source": [
    "x = np.random.uniform(size=5)\n",
    "x_bar = x.mean()\n",
    "print(\"Werte von x:\\n\", x)\n",
    "print(\"Mittelwert von x:\", x_bar)"
   ]
  },
  {
   "cell_type": "code",
   "execution_count": 4,
   "metadata": {},
   "outputs": [
    {
     "name": "stdout",
     "output_type": "stream",
     "text": [
      "[[0.9965445  0.17603361 0.31769758 0.50240578 0.58126624]\n",
      " [0.29157513 0.32747004 0.5883059  0.63042031 0.12442209]\n",
      " [0.04907244 0.35736638 0.7559756  0.11539705 0.22463214]]\n"
     ]
    }
   ],
   "source": [
    "X = np.random.uniform(size=(3, 5))\n",
    "print(X)"
   ]
  },
  {
   "cell_type": "code",
   "execution_count": 5,
   "metadata": {},
   "outputs": [
    {
     "data": {
      "text/plain": [
       "array([0.51478954, 0.3924387 , 0.30048872])"
      ]
     },
     "execution_count": 5,
     "metadata": {},
     "output_type": "execute_result"
    }
   ],
   "source": [
    "X.mean(axis=1)"
   ]
  },
  {
   "cell_type": "markdown",
   "metadata": {},
   "source": [
    "### Wie ist der Mittelwert $\\bar{X}$ verteilt?"
   ]
  },
  {
   "cell_type": "code",
   "execution_count": 8,
   "metadata": {},
   "outputs": [
    {
     "data": {
      "application/vnd.jupyter.widget-view+json": {
       "model_id": "248c7d1e87bc4eee98bbe713644ddde5",
       "version_major": 2,
       "version_minor": 0
      },
      "text/plain": [
       "interactive(children=(IntSlider(value=5, description='sample_size', max=1000, min=1), Output()), _dom_classes=…"
      ]
     },
     "metadata": {},
     "output_type": "display_data"
    }
   ],
   "source": [
    "def mean_viewer(sample_size=5):\n",
    "    X = np.random.uniform(size=(10000, sample_size))\n",
    "    # empirical\n",
    "    X_bar = X.mean(axis=1)\n",
    "    \n",
    "    fig, ax = plt.subplots(1, 1, figsize=(10, 5))\n",
    "    kdeplot(X_bar, label=\"empirische Dichte\", ax=ax)\n",
    "    \n",
    "    # theoretical\n",
    "    mu = X_bar.mean()\n",
    "    sigma = np.std(X_bar)\n",
    "    x = np.linspace(0, 1, 100)\n",
    "    f_x = 1/np.sqrt(2*np.pi*sigma**2)*np.exp(-0.5*((x-mu)/sigma)**2)\n",
    "    ax.plot(x, f_x, \"--\", c=\"red\", alpha=0.5,\n",
    "            label=\"$Z \\sim N({:3.3}, {:3.3})$\".format(mu, sigma))\n",
    "    plt.title(\"Beispiel: zentraler Grenzwertsatz\")\n",
    "    plt.legend()\n",
    "    \n",
    "interactive(mean_viewer,\n",
    "            sample_size=(1, 1000, 1))"
   ]
  }
 ],
 "metadata": {
  "kernelspec": {
   "display_name": "Python 3",
   "language": "python",
   "name": "python3"
  },
  "language_info": {
   "codemirror_mode": {
    "name": "ipython",
    "version": 3
   },
   "file_extension": ".py",
   "mimetype": "text/x-python",
   "name": "python",
   "nbconvert_exporter": "python",
   "pygments_lexer": "ipython3",
   "version": "3.6.7"
  }
 },
 "nbformat": 4,
 "nbformat_minor": 2
}
