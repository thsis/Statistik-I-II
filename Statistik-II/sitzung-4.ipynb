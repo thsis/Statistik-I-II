{
 "cells": [
  {
   "cell_type": "markdown",
   "metadata": {},
   "source": [
    "# Sitzung 4\n",
    "\n",
    "Diese Skripte sind ausschließlich als Zusatz-Material gedacht. Speziell für diejenigen unter Euch, die einen Einblick in das Programmieren gewinnen wollen. Wenn Du es also leid bist repetitive Tätigkeiten auszuführen und das lieber einer Maschine überlassen willst, bist Du hier genau richtig. \n",
    "\n",
    "<span style=\"color:red\"> Die Codes sind nicht für die Klausur relevant, genau genommen haben sie mit dem Lehrstuhl für Statistik __rein gar nichts__ zu tun. </span>\n",
    "\n",
    "Dieses mal sehen wir uns wieder Verteilungen an, der Star diesmal: die __Hypergeometrische Verteilung__. Sie ist eng mit der Binomialverteilung verwandt und ist angemessen, wenn sich die Wahrscheinlichkeit zwischen den einzelnen Experimenten verändert.\n",
    "\n",
    "Wir werden wieder versuchen eine Intuition für die Verteilung zu gewinnen, indem wir uns interaktive plots ansehen."
   ]
  },
  {
   "cell_type": "code",
   "execution_count": 2,
   "metadata": {},
   "outputs": [],
   "source": [
    "import numpy as np\n",
    "from matplotlib import pyplot as plt\n",
    "from ipywidgets import interact, IntSlider"
   ]
  },
  {
   "cell_type": "markdown",
   "metadata": {},
   "source": [
    "Wir implementieren wieder einmal die mathematische Wahrscheinlichkeitsfunktion\n",
    "\n",
    "$$\n",
    "f_H (x;N;M;n) = \\begin{cases} \n",
    "      \\frac{{M \\choose x} {N-M \\choose n-x}}{{N \\choose n}} \\quad  \\text{wenn x} \\in \\left\\{ 0, 1, \\dots, \\min(n, M)\\right\\}\\\\\n",
    "      0 \\quad sonst\n",
    "   \\end{cases}\n",
    "$$"
   ]
  },
  {
   "cell_type": "code",
   "execution_count": 3,
   "metadata": {},
   "outputs": [],
   "source": [
    "def bincoef(n, k):\n",
    "    return np.math.factorial(n) / (np.math.factorial(k) * np.math.factorial(n-k))\n",
    "\n",
    "\n",
    "def pbinom(x, p, n):\n",
    "    \"\"\"Berechne die Wahrscheinlichkeit, dass X=x, für X ~ Binom(n, p)\"\"\"\n",
    "    binom_coeff = (np.math.factorial(n)) / (np.math.factorial(x) * np.math.factorial(n - x))\n",
    "    return binom_coeff * p**x * (1-p)**(n-x)\n",
    "\n",
    "\n",
    "def phyper(x, N, M, n):\n",
    "    \"\"\"Berechne die Wahrscheinlichkeit, dass X=x, für X ~ Hyper(N, M, n)\"\"\"\n",
    "    # Teste ob die Parameter sinnvoll gewählt wurden.\n",
    "    assert M <= N\n",
    "    assert x <= n\n",
    "    \n",
    "    try:\n",
    "        num_positive = bincoef(M, x)\n",
    "        num_negative = bincoef(N-M, n-x)\n",
    "        total = bincoef(N, n)\n",
    "    except ValueError:\n",
    "        return 0\n",
    "    \n",
    "    return (num_positive * num_negative) / total"
   ]
  },
  {
   "cell_type": "markdown",
   "metadata": {},
   "source": [
    "Ganz analog zu letztem Mal, definieren wir eine Funktion, die die plots generiert."
   ]
  },
  {
   "cell_type": "code",
   "execution_count": 4,
   "metadata": {},
   "outputs": [],
   "source": [
    "def view_pdf(N, M, n, binom):\n",
    "    \"\"\"Plotte Verteilung von X~Hyper(N, M, n) und Y~Bin(n, M/N).\"\"\"\n",
    "    fig, ax = plt.subplots(ncols=1, nrows=1, figsize=(11, 11))    \n",
    "    \n",
    "    if binom:\n",
    "        w = 0.5\n",
    "        xmin = max(0, n - (N-M))\n",
    "        xmax = min(n, M)\n",
    "\n",
    "        if xmin:\n",
    "            xmin_label = r\"$X_{min} = {%d} - ({%d} - {%d}) = {%d}$\" % (n, N, M, xmin)\n",
    "        else:\n",
    "            xmin_label = r\"$X_{min}:$ 0\"\n",
    "        \n",
    "        xmax_label = r\"$X_{max} = \\min({%d}, {%d}) = {%d}$\" % (n, M, xmax)        \n",
    "        \n",
    "        X_ = np.arange(xmin, xmax + 1, 1)\n",
    "        y_hyper = [phyper(x, N=N, M=M, n=n) for x in X_]\n",
    "        y_binom = [pbinom(x, n=n, p=M/N) for x in X_]\n",
    "        \n",
    "        ax.plot([], [], \" \", label=xmin_label)\n",
    "        ax.plot([], [], \" \", label=xmax_label)\n",
    "        ax.bar(X_ - w/2, y_hyper, width=w, label=\"X ~ Hyper({}, {}, {})\".format(N, M, n))\n",
    "        ax.bar(X_ + w/2, y_binom, width=w, label=\"Y ~ Bin({}, {:3.2})\".format(n, M/N))\n",
    "        \n",
    "    else:\n",
    "        xmin = max(0, n - (N-M))\n",
    "        xmax = min(n, M)\n",
    "\n",
    "        if xmin:\n",
    "            xmin_label = r\"$X_{min} = {%d} - ({%d} - {%d}) = {%d}$\" % (n, N, M, xmin)\n",
    "        else:\n",
    "            xmin_label = r\"$X_{min}:$ 0\"\n",
    "        \n",
    "        xmax_label = r\"$X_{max} = \\min({%d}, {%d}) = {%d}$\" % (n, M, xmax)\n",
    "    \n",
    "        X_ = np.arange(xmin, xmax + 1, 1)\n",
    "        y_hyper = [phyper(x, N=N, M=M, n=n) for x in X_]\n",
    "        \n",
    "        ax.bar(X_, y_hyper, label=\"X ~ Hyper({}, {}, {})\".format(N, M, n))\n",
    "        ax.plot([], [], \" \", label=xmin_label)\n",
    "        ax.plot([], [], \" \", label=xmax_label)\n",
    "\n",
    "        \n",
    "    # Labels get too crowded, when the support becomes too large.\n",
    "    if len(X_) <= 30:\n",
    "        plt.xticks(X_)\n",
    "    \n",
    "    plt.title(\"Die Hypergeometrische Verteilung\")\n",
    "    plt.ylabel(r\"$f(x)$\")\n",
    "    plt.xlabel(r\"$X=x$\")\n",
    "    plt.legend()\n",
    "    plt.show()\n"
   ]
  },
  {
   "cell_type": "markdown",
   "metadata": {},
   "source": [
    "Anders ist diesmal wie wir die UI definieren. Würden wir die UI genauso wie letztes mal generieren, wären unsinnige Kombinationen möglich. Bei der hypergeometrischen Verteilung hängen $n$ und $M$ von $N$ ab. \n",
    "\n",
    "* $n \\leq N$: weil wir nicht mehr ziehen können ($n$), als da ist ($N$)\n",
    "\n",
    "* $M \\leq N$: weil die maximale Anzahl Treffer ($M$) nicht größer sein kann, als die Gesamtanzahl ($N$)\n",
    "\n",
    "Im besten Fall, werden unsinnige Werte in unserer Funktion `phyper` abgefangen. Im schlechtesten Fall haben wir etwas übersehen, was später zu unvorhergesehenem Verhalten führt (ein sehr häufiges Problem beim Programmieren)."
   ]
  },
  {
   "cell_type": "code",
   "execution_count": 5,
   "metadata": {},
   "outputs": [
    {
     "data": {
      "application/vnd.jupyter.widget-view+json": {
       "model_id": "7aab0a8a1a174004b94933b832a78d46",
       "version_major": 2,
       "version_minor": 0
      },
      "text/plain": [
       "interactive(children=(IntSlider(value=10, description='N:', max=200), IntSlider(value=5, description='M:', max…"
      ]
     },
     "metadata": {},
     "output_type": "display_data"
    }
   ],
   "source": [
    "N_widget = IntSlider(min=0, max=200, value=10, description=\"N:\")\n",
    "M_widget = IntSlider(min=0, max=N_widget.value, value=5, description=\"M:\")\n",
    "n_widget = IntSlider(min=1, max=N_widget.value, value=5, description=\"n:\")\n",
    "\n",
    "\n",
    "def updater(*args):\n",
    "    M_widget.max = N_widget.value\n",
    "    n_widget.max = N_widget.value\n",
    "    \n",
    "N_widget.observe(updater, 'value')\n",
    "\n",
    "interact(view_pdf, N=N_widget, M=M_widget, n=n_widget, binom=False);"
   ]
  },
  {
   "cell_type": "code",
   "execution_count": null,
   "metadata": {},
   "outputs": [],
   "source": []
  }
 ],
 "metadata": {
  "kernelspec": {
   "display_name": "Python 3",
   "language": "python",
   "name": "python3"
  },
  "language_info": {
   "codemirror_mode": {
    "name": "ipython",
    "version": 3
   },
   "file_extension": ".py",
   "mimetype": "text/x-python",
   "name": "python",
   "nbconvert_exporter": "python",
   "pygments_lexer": "ipython3",
   "version": "3.6.6"
  }
 },
 "nbformat": 4,
 "nbformat_minor": 2
}
