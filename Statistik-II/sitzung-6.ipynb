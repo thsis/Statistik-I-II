{
 "cells": [
  {
   "cell_type": "markdown",
   "metadata": {},
   "source": [
    "# Sitzung 6\n",
    "\n",
    "Diese Skripte sind ausschließlich als Zusatz-Material gedacht. Speziell für diejenigen unter Euch, die einen Einblick in das Programmieren gewinnen wollen. Wenn Du es also leid bist repetitive Tätigkeiten auszuführen und das lieber einer Maschine überlassen willst, bist Du hier genau richtig. \n",
    "\n",
    "<span style=\"color:red\"> Die Codes sind nicht für die Klausur relevant, genau genommen haben sie mit dem Lehrstuhl für Statistik __rein gar nichts__ zu tun. </span>\n",
    "\n",
    "---"
   ]
  },
  {
   "cell_type": "code",
   "execution_count": 28,
   "metadata": {},
   "outputs": [],
   "source": [
    "import numpy as np\n",
    "from scipy.special import binom\n",
    "from matplotlib import pyplot as plt\n",
    "from tqdm import trange"
   ]
  },
  {
   "cell_type": "markdown",
   "metadata": {},
   "source": [
    "## Verteilungen diskreter Wartezeiten\n",
    "\n",
    "Ist es möglich, die Argumentationsweise der Exponentialverteilung auf die Binomialverteilung und die Hypergeometrische Verteilung zu erweitern?\n",
    "\n",
    "Sei $$T: \\text{Wartezeit auf den ersten Erfolg}$$\n",
    "\n",
    "Wobei $$X: \\text{Anzahl der Erfolge}$$\n",
    "\n",
    "Zur Erinnerung: warten heißt, dass bisher nichts passiert ist $X=0$. \n",
    "\n",
    "Für $X \\sim Pois(\\lambda)$ gilt:\n",
    "\n",
    "\\begin{equation}\n",
    "P(X=0) = \\frac{\\lambda^0}{0!}\\exp(-\\lambda) = \\exp(-\\lambda)\n",
    "\\end{equation}\n",
    "\n",
    "Für unabhängige und identisch verteilte Zeiteinheiten gilt:\n",
    "\n",
    "\\begin{align}\n",
    "P(X&=0 \\text{ in 2 Zeiteinheiten}) \\\\\n",
    "&= P(\\{X=0\\text{ in der ersten Zeiteinheit}\\} , \\{ X=0\\text{ in der zweiten Zeiteinheit} \\}) \\\\ \n",
    "&= P(\\{X=0\\text{ in der ersten Zeiteinheit}\\}) \\cdot P(\\{ X=0\\text{ in der zweiten Zeiteinheit} \\}) \\\\ \n",
    "&= \\exp(-\\lambda) \\cdot \\exp(-\\lambda) = \\exp(-2\\lambda)\n",
    "\\end{align}\n",
    "\n",
    "Und allgemein:\n",
    "$$P(X=0 \\text{ in t Zeiteinheiten}) = \\exp(-\\lambda t) = P(T \\geq t)$$\n",
    "\n",
    "Damit können wir sagen:\n",
    "\\begin{equation}\n",
    "P(T \\leq t) = 1 - \\exp(-\\lambda t)\n",
    "\\end{equation}\n",
    "\n",
    "---"
   ]
  },
  {
   "cell_type": "markdown",
   "metadata": {},
   "source": [
    "## Erweiterung auf die Binomialverteilung\n",
    "\n",
    "Für $X \\sim Bin(n, p)$, mit $n \\in \\mathbb{N}, p \\in \\mathbb{R}_{+}$ gilt die obere Argumentation immer noch:\n",
    "\n",
    "$$P_n(X=0)=\\underbrace{{N \\choose 0}}_{=1} \\overbrace{p^0}^{=1} (1-p)^{n-0} = (1-p)^n$$\n",
    "\n",
    "und \n",
    "\n",
    "$$P(T \\leq n) = 1 - P_n(X=0) = 1 - (1-p)^n$$\n",
    "\n",
    "### Überprüfung:\n",
    "\n",
    "Wartezeit auf die erste sechs beim Mensch-ärgere-dich-nicht"
   ]
  },
  {
   "cell_type": "code",
   "execution_count": 32,
   "metadata": {},
   "outputs": [
    {
     "name": "stderr",
     "output_type": "stream",
     "text": [
      "100%|██████████| 1000000/1000000 [00:15<00:00, 66267.40it/s]\n"
     ]
    }
   ],
   "source": [
    "trials = 1000000\n",
    "n = np.arange(0, 100)\n",
    "theoretical = 1 - (1-1/6)**n\n",
    "samples = np.ones(trials)\n",
    "for i in trange(trials):\n",
    "    while np.random.randint(low=1, high=7) != 6:\n",
    "        samples[i] += 1\n",
    "values, counts = np.unique(samples, return_counts=True)\n",
    "empirical = counts/trials"
   ]
  },
  {
   "cell_type": "code",
   "execution_count": 37,
   "metadata": {},
   "outputs": [
    {
     "data": {
      "text/plain": [
       "(0, 40)"
      ]
     },
     "execution_count": 37,
     "metadata": {},
     "output_type": "execute_result"
    },
    {
     "data": {
      "image/png": "[encoded data removed]",
      "text/plain": [
       "<Figure size 720x360 with 1 Axes>"
      ]
     },
     "metadata": {
      "needs_background": "light"
     },
     "output_type": "display_data"
    }
   ],
   "source": [
    "plt.figure(figsize=(10, 5))\n",
    "plt.step(n, theoretical, where='post', label='$P_{theoretisch}(X < x)$')\n",
    "plt.step(values, empirical.cumsum(), where='post', label='$P_{empirisch}(X < x)$')\n",
    "plt.legend()\n",
    "plt.title(\"Vergleich/Überprüfung theoretischer Verteilungsfunktion\")\n",
    "plt.xlim([0, 40])"
   ]
  },
  {
   "cell_type": "markdown",
   "metadata": {},
   "source": [
    "---\n",
    "## Erweiterung auf die Hypergeometrische Verteilung\n",
    "\n",
    "Für $X \\sim Hyper(N, M, n)$\n",
    "\n",
    "\\begin{align}\n",
    "P_n(X=0) &= \\overbrace{\\left(\\frac{N-M}{N}\\right) \\cdot \\left(\\frac{N-M-1}{N-1}\\right) \\cdot \\dots \\cdot \\left(\\frac{N-M-(n-1)}{N-(n-1)}\\right)}^{\\textit{n Faktoren}} \\\\\n",
    "&= \\Large{\\frac{\\frac{(N-M)!}{(N-M-n)!}}{\\frac{N!}{(N-n)!}}}\n",
    "= \\Large{\\frac{\\frac{(N-M)! \\color{red}{n!}}{(N-M-n)!\\color{red}{n!}}}{\\frac{N!\\color{red}{n!}}{(N-n)!\\color{red}{n!}}}}\\\\\n",
    "&= \\Large{\\frac{\\color{red}{n!}{N-M \\choose n}}{\\color{red}{n!}{N \\choose n}} = \\frac{{N-M \\choose n}}{{N \\choose n}}}\n",
    "\\end{align}\n",
    "\n",
    "und \n",
    "\n",
    "$$P(T < n) = 1 - P_n(X=0) = 1 - \\frac{{N-M \\choose n}}{{N \\choose n}}$$\n",
    "\n",
    "### Überprüfung:\n",
    "\n",
    "Wie wahrscheinlich ist es eine Partie russisches Roulette zu überleben?"
   ]
  },
  {
   "cell_type": "code",
   "execution_count": 51,
   "metadata": {},
   "outputs": [
    {
     "name": "stderr",
     "output_type": "stream",
     "text": [
      "100%|██████████| 1000000/1000000 [00:03<00:00, 275661.38it/s]\n"
     ]
    }
   ],
   "source": [
    "N = 6\n",
    "M = 1\n",
    "n = np.arange(0, 6)\n",
    "theoretical = 1 - binom(N-M, n)/binom(N, n)\n",
    "\n",
    "samples = np.zeros(trials)\n",
    "\n",
    "for i in trange(trials):\n",
    "    x = [1, 2, 3, 4, 5, 6]\n",
    "    np.random.shuffle(x)\n",
    "    didi_mao = None\n",
    "    while didi_mao != 6:\n",
    "        didi_mao = x.pop()\n",
    "        samples[i] += 1\n",
    "\n",
    "values, counts = np.unique(samples, return_counts=True)\n",
    "empirical = counts/trials"
   ]
  },
  {
   "cell_type": "code",
   "execution_count": 52,
   "metadata": {},
   "outputs": [
    {
     "data": {
      "text/plain": [
       "(0, 6)"
      ]
     },
     "execution_count": 52,
     "metadata": {},
     "output_type": "execute_result"
    },
    {
     "data": {
      "image/png": "[encoded data removed]",
      "text/plain": [
       "<Figure size 720x360 with 1 Axes>"
      ]
     },
     "metadata": {
      "needs_background": "light"
     },
     "output_type": "display_data"
    }
   ],
   "source": [
    "plt.figure(figsize=(10, 5))\n",
    "plt.step(n, theoretical, where='post', label='$P_{theoretisch}(X < x)$')\n",
    "plt.step(values, empirical.cumsum(), where='post', label='$P_{empirisch}(X < x)$')\n",
    "plt.legend()\n",
    "plt.title(\"Vergleich/Überprüfung theoretischer Verteilungsfunktion\")\n",
    "plt.xlim([0, 6])"
   ]
  }
 ],
 "metadata": {
  "kernelspec": {
   "display_name": "Python 3",
   "language": "python",
   "name": "python3"
  },
  "language_info": {
   "codemirror_mode": {
    "name": "ipython",
    "version": 3
   },
   "file_extension": ".py",
   "mimetype": "text/x-python",
   "name": "python",
   "nbconvert_exporter": "python",
   "pygments_lexer": "ipython3",
   "version": "3.6.7"
  }
 },
 "nbformat": 4,
 "nbformat_minor": 2
}
