{
 "cells": [
  {
   "cell_type": "markdown",
   "metadata": {},
   "source": [
    "# Sitzung 5\n",
    "\n",
    "Diese Skripte sind ausschließlich als Zusatz-Material gedacht. Speziell für diejenigen unter Euch, die einen Einblick in das Programmieren gewinnen wollen. Wenn Du es also leid bist repetitive Tätigkeiten auszuführen und das lieber einer Maschine überlassen willst, bist Du hier genau richtig. \n",
    "\n",
    "<span style=\"color:red\"> Die Codes sind nicht für die Klausur relevant, genau genommen haben sie mit dem Lehrstuhl für Statistik __rein gar nichts__ zu tun. </span>\n",
    "\n",
    "---\n",
    "\n",
    "Dieses Mal modellieren wir die Wahrscheinlichkeit für die Anzahl matches, die man beim Tindern erwarten, kann (andere Dating-Apps sind erhältlich). Sag einer Statistik hätte nichts mit dem echten Leben zu tun...\n",
    "\n",
    "Falls Dir ein seriöseres Beispiel lieber ist, gibt es eine ausgezeichnete Motivation desselben mathematischen Problems [hier](https://mourafiq.com/2016/02/05/intuition-behind-poisson-distribution.html). Die Herleitung am Ende ist aber ein wenig kurz gehalten, darum gibt es eine bessere Antwort auf [stackoverflow](https://math.stackexchange.com/a/836585). Eine ernstere Version der Exponentialverteilung gibt es [hier](http://www.milefoot.com/math/stat/pdfc-exponential.htm).\n",
    "\n",
    "---"
   ]
  },
  {
   "cell_type": "markdown",
   "metadata": {},
   "source": [
    "## Tinder und die Poisson-Verteilung\n",
    "\n",
    "Stell Dir vor, Du wüsstest bereits aufgrund Deiner langjährigen Erfahrung mit Tinder, wie viele matches Du pro Tag erwarten kannst. Wir nennen diesen Wert $\\lambda$. Für die einen kann $\\lambda$ ziemlich hoch sein, wer weiß, vielleicht $\\lambda=12$? Für jemand anderen kann es eventuell etwas schwieriger sein ein Tinder-match abzukriegen, dann ist $\\lambda$ natülich kleiner.\n",
    "\n",
    "Um unsere Rechnung zu vereinfachen gehen wir weiter davon aus, dass wir überhaupt nicht wählerisch sind - wenn wir einen Vorschlag kriegen, akzeptieren wir die Kandidatin/den Kandidaten ohne Umschweife."
   ]
  },
  {
   "cell_type": "markdown",
   "metadata": {},
   "source": [
    "### Anzahl matches pro Stunde\n",
    "\n",
    "Wenn wir die Wahrscheinlichkeit für die Zufallsvariable\n",
    "\n",
    "$$X: \\text{Anzahl matches auf Tinder innerhalb einer Stunde}$$\n",
    "\n",
    "modellieren wollen, ist eine erste Idee, die Binomialverteilung zu rate zu ziehen, schließlich besteht ein Tag aus 24 Stunden und es gibt, auf den ersten Blick, keinen guten Grund anzunehmen, dass sich die Wahrscheinlichkeit zwischen den Stunden ändert.\n",
    "\n",
    "Wir wissen, dass die Binomialverteilung entsteht wenn wir:\n",
    "* n Versuche durchführen und die Summe der Erfolge: $\\sum\\limits_{i=1}^n X_i$ betrachten,\n",
    "* wobei $X_i \\in \\{0, 1\\}$ ein Bernoulli-Experiment mit Erfolgswahrscheinlichkeit $p$ beschreibt."
   ]
  },
  {
   "cell_type": "markdown",
   "metadata": {},
   "source": [
    "Wir wollen also sagen $X \\sim Bin(n; p)$ und wir wissen, dass $n=24$ ist, wir wissen aber noch nicht wie hoch die Wahrscheinlichkeit des einzelnen Zufallsexperiments ist, wir kennen nur den Erwartungswert $\\lambda$. Wir wissen aber, wie man den Erwartungswert einer binomial verteilten Zufallsvariable allgemein berechnet. Der Erwartungswert einer binomial verteilten Zufallsvariable ist gegeben als\n",
    "\n",
    "\\begin{align}\n",
    "E\\left(X\\right) &= n \\cdot p \\stackrel{!}{=} \\lambda \\\\\n",
    "          \\Leftrightarrow p &= \\frac{\\lambda}{n}\n",
    "\\end{align}\n",
    "\n",
    "Damit können wir sagen, dass\n",
    "\n",
    "$$P(X=k) = {24 \\choose k}\\left(\\frac{\\lambda}{24}\\right)^k \\left(1-\\frac{\\lambda}{24}\\right)^{24-k}$$\n",
    "\n",
    "Irgend etwas stimmt aber noch nicht. Wie haben wir denn die zugrunde liegenden Experimente $X_i$ definiert?\n",
    "\n",
    "$$X_i = \\begin{cases}\n",
    "0 \\text{ für kein einziges Tinder match in Stunde } \\textit{i}\\\\\n",
    "1 \\text{ sonst}\n",
    "\\end{cases}\n",
    "$$"
   ]
  },
  {
   "cell_type": "markdown",
   "metadata": {},
   "source": [
    "Der Knackpunkt liegt in dem Wörtchen *sonst*. In diesem Fall heißt das nämlich **ein oder mehr** Tinder matches in Stunde $i$. Wir ignorieren völlig, dass wir in einer Stunde zum Beispiel $2$ Tinder matches kriegen könnten. Dieses Problem können wir lösen, indem wir $n$ größer machen. Zurzeit ist es so, als würden wir an einem Tag nur einmal pro Stunde nachsehen, ob wir ein match erzielen konnten - und das ist ja natürlich Quatsch. Wir können ja auch jede halbe Stunde, nachsehen. Oder jede Viertel Stunde, oder jede Minute oder jede Sekunde. Eigentlich können wir ständig nachsehen. Mathematisch gesehen, ist dieses leicht verstörende Verhalten, das wir beschrieben haben das Gleiche, wie den Grenzwert zu bilden für $n \\rightarrow \\infty$."
   ]
  },
  {
   "cell_type": "markdown",
   "metadata": {},
   "source": [
    "\\begin{align}\n",
    "&\\lim \\color{red}{{n \\choose k}} \\cdot \\left(\\frac{\\lambda}{n}\\right)^{\\color{blue}k} \\cdot \\left(1-\\frac{\\lambda}{n}\\right)^{\\color{orange}{n-k}}\\\\\n",
    "&= \\lim \\color{red}{\\frac{n!}{k!(n-k)!}} \\cdot \\frac{\\lambda^{\\color{blue}k}}{n^{\\color{blue}k}} \\cdot \\left(1-\\frac{\\lambda}{n}\\right)^{\\color{orange}{n}} \\cdot \\left(1-\\frac{\\lambda}{n}\\right)^{\\color{orange}{-k}} \\\\\n",
    "&= \\lim \\frac{\\lambda^k}{k!} \\cdot \\underbrace{\\left(1-\\frac{\\lambda}{n}\\right)^{n}}_{\\color{purple}{\\rightarrow exp(-\\lambda)}} \\cdot \\left(1-\\frac{\\lambda}{n}\\right)^{-k} \\cdot \\overbrace{\\frac{n!}{(n-k)!}}^{\\text{hat k Faktoren}} \\cdot \\underbrace{\\frac{1}{n^k}}_{\\substack{\\text{hat auch} \\\\ \\text{k Faktoren}}} \\\\\n",
    "&= \\lim \\frac{\\lambda^k}{k!} \\cdot \\left(1-\\frac{\\lambda}{n}\\right)^{n} \\cdot \\underbrace{\\left(1-\\frac{\\lambda}{n}\\right)^{-k}}_{\\rightarrow 1} \\cdot \\overbrace{\\frac{n}{n}}^{\\rightarrow 1} \\cdot \\overbrace{\\frac{n-1}{n}}^{\\rightarrow 1} \\cdot \\overbrace{\\frac{n-2}{n}}^{\\rightarrow 1} \\cdot \\dots \\cdot \\overbrace{\\frac{n-k+1}{n}}^{\\rightarrow 1} \\\\\n",
    "&= \\frac{\\lambda^k}{k!} \\exp\\left(-\\lambda\\right)\n",
    "\\end{align} \n",
    "\n",
    "Damit haben wir soeben die Poisson Verteilung hergeleitet. Damit können wir sehen wie wahrscheinlich unsere verschiedenen Wunsch-Ereignisse auf Tinder ausfallen.\n",
    "\n",
    "---"
   ]
  },
  {
   "cell_type": "code",
   "execution_count": 1,
   "metadata": {},
   "outputs": [],
   "source": [
    "import numpy as np\n",
    "from matplotlib import pyplot as plt\n",
    "from ipywidgets import interact, FloatSlider, Layout\n",
    "from textwrap import dedent\n",
    "\n",
    "\n",
    "def tinder_dist(l=1.5):\n",
    "    # Calculate probabilities\n",
    "    K = np.arange(0, 100)\n",
    "    y = np.array([(l**k/np.math.factorial(k))*np.exp(-l) for k in K])\n",
    "    cum_y = np.cumsum(y)\n",
    "    # Create plots\n",
    "    fig, ax = plt.subplots(1, 2, figsize=(13, 4))\n",
    "    ax[0].bar(K, y, color=\"red\", alpha=0.5)\n",
    "    ax[1].step(K, cum_y, where=\"post\", c=\"red\")\n",
    "    # Fix limits\n",
    "    xlim = np.argwhere(y > 0.01)\n",
    "    ax[0].set_xlim([np.min(xlim)-0.5, np.max(xlim)+0.5])\n",
    "    ax[1].set_xlim([np.min(xlim)-0.5, np.max(xlim)+0.5])\n",
    "    ax[1].set_ylim([0, 1])\n",
    "    # Set titles\n",
    "    ax[0].set_title(\"Wahrscheinlichkeitsfunktion\")\n",
    "    ax[1].set_title(\"Verteilungsfunktion\")\n",
    "    plt.suptitle(\"$X \\sim Pois({})$\".format(l))\n",
    "    plt.show()"
   ]
  },
  {
   "cell_type": "code",
   "execution_count": 2,
   "metadata": {},
   "outputs": [
    {
     "data": {
      "application/vnd.jupyter.widget-view+json": {
       "model_id": "6de142ac484142a9910eccb01503ef5f",
       "version_major": 2,
       "version_minor": 0
      },
      "text/plain": [
       "interactive(children=(FloatSlider(value=2.2, description='Erwartete Matches pro Stunde', layout=Layout(width='…"
      ]
     },
     "metadata": {},
     "output_type": "display_data"
    }
   ],
   "source": [
    "lambda_widget = FloatSlider(min=0.1, max=50, value=2.2, step=0.01,\n",
    "                            description=\"Erwartete Matches pro Stunde\",\n",
    "                            layout = Layout(width='50%'),\n",
    "                            style={'description_width': '200px'})\n",
    "x = interact(tinder_dist, l=lambda_widget);"
   ]
  },
  {
   "cell_type": "markdown",
   "metadata": {},
   "source": [
    "---\n",
    "## Tinder und die Exponential-Verteilung\n",
    "\n",
    "Was ist jetzt, wenn wir uns gar nicht dafür interessieren, wie viele matches wir bekommen können. Vielleicht reicht uns ja genau eins - das erste. Wie lange dauert es also bis zu unserem ersten Tinder-match? \n",
    "\n",
    "Oder anders ausgedrückt: wie lange müssen wir warten, bis sich auf Tinder jemand findet, der bereit ist, mit uns zu chatten. Dazu muss uns erst mal klar werden, was \"warten\" eigentlich bedeutet: Warten heißt, dass bisher nichts passiert ist. Die absolute Anzahl unserer Tinder-matches bis zum jetzigen Zeitpunkt ist $X = 0$. Und die Wahrscheinlichkeit für diesen Zustand lässt sich mit der Poisson-Verteilung berechnen:\n",
    "\n",
    "\\begin{equation}\n",
    "P(\\{\\text{kein Tinder match in einer Zeiteinheit}\\}) = P(X=0) = \\frac{\\lambda^0}{0!}\\exp(-\\lambda) = \\exp(-\\lambda)\n",
    "\\end{equation}"
   ]
  },
  {
   "cell_type": "markdown",
   "metadata": {},
   "source": [
    "Jetzt wollen wir wissen wie wahrscheinlich es ist, innerhalb von zwei Zeiteinheiten auf Tinder leer auszugehen. Dazu müssen wir ein klein wenig mentale Akrobatik vollführen. Wir müssen unsere Frage so verpacken, dass sie sich in einen mathematischen Ausdrück überführen lässt. Wenn wir zwei Zeiteinheiten lang warten müssen, heißt das ja, dass in der ersten Zeiteinheit kein Ereignis aufgetreten ist - **und** in der zweiten Zeiteinheit ist auch nichts passiert. Mathematisch gesehen, ist das eine **gemeinsame** Wahrscheinlichkeit:\n",
    "\n",
    "\\begin{equation}\n",
    "P(\\{\\text{kein Tinder match in zwei Zeiteinheiten}\\}) =\\\\\n",
    "P(\\{\\text{kein Tinder match in der ersten Zeiteinheit}\\}, \\{ \\text{kein Tinder match in der zweiten Zeiteinheit} \\})\n",
    "\\end{equation}"
   ]
  },
  {
   "cell_type": "markdown",
   "metadata": {},
   "source": [
    "Der nächste Schritt, ist festzustellen, dass die beiden Zeiteinheiten **unabhängig** voneinander sind. Informationen über die Anzahl matches in der ersten Zeiteinheit helfen uns nicht, die Anzahl in der zweiten Zeiteinheit vorherzusagen. Die gemeinsame Wahrscheinlichkeit von unabhängigen Zufallsvariablen, kann man schreiben als das Produkt der beiden Einzelwahrscheinlichkeiten\n",
    "\n",
    "\\begin{align}\n",
    "P(\\{\\text{kein match in der ersten Zeiteinheit}\\} &, \\{ \\text{kein match in der zweiten Zeiteinheit} \\}) \\\\ \n",
    "= P(\\{\\text{kein match in der ersten Zeiteinheit}\\}) &\\cdot P(\\{\\text{kein match in der zweiten Zeiteinheit}\\}) \\\\\n",
    "= \\exp(-\\lambda) &\\cdot \\exp(-\\lambda) = \\exp(-2\\lambda)\n",
    "\\end{align}\n",
    "\n",
    "**Allgemein**, für t Zeiteinheiten können wir sagen: $$P(\\{\\text{kein match in t Zeiteinheiten}\\}) = \\exp(-\\lambda t)$$"
   ]
  },
  {
   "cell_type": "markdown",
   "metadata": {},
   "source": [
    "Und jetzt sind wir eigentlich schon fast fertig, denn die Wahrscheinlichkeit in $t$ Zeiteinheiten kein einziges match zu erzielen ist, logisch gesehen, das Gleiche wie länger als $t$ Zeiteinheiten auf das erste match zu warten. Damit definieren wir die Zufallsvariable\n",
    "\n",
    "$$T: \\text{ Wartezeit auf das erste Tinder match}.$$\n",
    "\n",
    "Und wir kennen auch schon die Verteilung von $T$:\n",
    "\n",
    "\\begin{equation}\n",
    "P(T > t) = P(\\{\\text{kein match in t Zeiteinheiten}\\}) = \\exp(-\\lambda t).\n",
    "\\end{equation}\n",
    "\n",
    "Jetzt ist das aber nicht die Art, wie wir Verteilungsfunktionen definieren wollen. Normalerweise wollen wir, dass eine Verteilungsfunktion uns angibt, wie groß die Wahrscheinlichkeit ist, dass eine Zufallsvariable einen Wert annimmt, der **kleiner** ist als eine bestimmte Grenze. Unsere Formulierung macht genau das Gegenteil - wir können es aber reparieren:\n",
    "\n",
    "\\begin{equation}\n",
    "P(T \\leq t) = 1 - P(T > 1) =1 - \\exp(-\\lambda t).\n",
    "\\end{equation}\n",
    "\n",
    "Und so gelangen wir zur Verteilungsfunktion der Exponential-Verteilung und können schreiben:\n",
    "$$T \\sim Exp(\\lambda)$$\n",
    "\n",
    "---"
   ]
  },
  {
   "cell_type": "code",
   "execution_count": 3,
   "metadata": {},
   "outputs": [],
   "source": [
    "def tinder_wait_dist(l=1.5):\n",
    "    # Calculate probabilities\n",
    "    upper = np.max([6/l, 1])\n",
    "    T = np.linspace(0, upper, 100)\n",
    "    pdf_y = np.array([l*np.exp(-l*t) for t in T])\n",
    "    cdf_y = np.array([1-np.exp(-l*t) for t in T])\n",
    "    \n",
    "    # Calculate 95% waiting time\n",
    "    q95 = -1/l * np.log(0.05)\n",
    "\n",
    "    # Create plots\n",
    "    fig, ax = plt.subplots(1, 2, figsize=(13, 4))\n",
    "    ax[0].plot(T, pdf_y, color=\"red\")\n",
    "    ax[1].plot(T, cdf_y, color=\"red\")\n",
    "    ax[1].plot([-1, q95, q95], [0.95, 0.95, 0], \"--\", c=\"grey\")\n",
    "    # Correct axis and add annotations\n",
    "    ax[1].set_ylim([0, 1])\n",
    "    ax[1].set_xlim([0, upper])\n",
    "    ax[1].text(q95 + 0.1, 0.5,\n",
    "              (\"Mit 95%-iger\"\n",
    "               \"\\nWahrscheinlichkeit\\n\"\n",
    "               \"musst Du weniger als\\n\"\n",
    "               \"{:3.3} Stunden warten\".format(q95)))\n",
    "    # Set titles\n",
    "    ax[0].set_title(\"Dichtefunktion\")\n",
    "    ax[1].set_title(\"Verteilungsfunktion\")\n",
    "    plt.suptitle(\"$X \\sim Exp({})$\".format(l))\n",
    "    plt.show()    "
   ]
  },
  {
   "cell_type": "markdown",
   "metadata": {},
   "source": [
    "Wie lange musst Du jetzt auf dein erstes Tinder match warten? Finde es einfach raus, indem Du deinen Erwartungswert vorgibst."
   ]
  },
  {
   "cell_type": "code",
   "execution_count": 4,
   "metadata": {},
   "outputs": [
    {
     "data": {
      "application/vnd.jupyter.widget-view+json": {
       "model_id": "d96e3300850f49e09db1f726984496e8",
       "version_major": 2,
       "version_minor": 0
      },
      "text/plain": [
       "interactive(children=(FloatSlider(value=2.2, description='Erwartete Matches pro Stunde', layout=Layout(width='…"
      ]
     },
     "metadata": {},
     "output_type": "display_data"
    }
   ],
   "source": [
    "interact(tinder_wait_dist, l=lambda_widget);"
   ]
  }
 ],
 "metadata": {
  "kernelspec": {
   "display_name": "Python 3",
   "language": "python",
   "name": "python3"
  },
  "language_info": {
   "codemirror_mode": {
    "name": "ipython",
    "version": 3
   },
   "file_extension": ".py",
   "mimetype": "text/x-python",
   "name": "python",
   "nbconvert_exporter": "python",
   "pygments_lexer": "ipython3",
   "version": "3.6.7"
  }
 },
 "nbformat": 4,
 "nbformat_minor": 2
}
