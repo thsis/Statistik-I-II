{
 "cells": [
  {
   "cell_type": "markdown",
   "metadata": {
    "slideshow": {
     "slide_type": "skip"
    }
   },
   "source": [
    "# Sitzung 10\n",
    "\n",
    "Diese Skripte sind ausschließlich als Zusatz-Material gedacht. Speziell für diejenigen unter Euch, die einen Einblick in das Programmieren gewinnen wollen. Wenn Du es also leid bist repetitive Tätigkeiten auszuführen und das lieber einer Maschine überlassen willst, bist Du hier genau richtig. \n",
    "\n",
    "<span style=\"color:red\"> Die Codes sind nicht für die Klausur relevant, genau genommen haben sie mit dem Lehrstuhl für Statistik **rein gar nichts** zu tun. </span>\n",
    "***"
   ]
  },
  {
   "cell_type": "code",
   "execution_count": 1,
   "metadata": {
    "slideshow": {
     "slide_type": "skip"
    }
   },
   "outputs": [],
   "source": [
    "import os\n",
    "import numpy as np\n",
    "import pandas as pd\n",
    "from matplotlib import pyplot as plt\n",
    "from ipywidgets import interact, FloatSlider"
   ]
  },
  {
   "cell_type": "markdown",
   "metadata": {
    "slideshow": {
     "slide_type": "slide"
    }
   },
   "source": [
    "# Tinder und die Maximum-Likelihood Methode"
   ]
  },
  {
   "cell_type": "markdown",
   "metadata": {
    "slideshow": {
     "slide_type": "slide"
    }
   },
   "source": [
    "## Anzahl Matches in einer Stunde\n",
    "Aus einem vergangenem [Notebook](https://github.com/thsis/Statistik-I-II/blob/master/Statistik-II/sitzung-5.ipynb) wissen wir, dass die Anzahl matches innerhalb einer Stunde auf Tinder unter milden Annahmen poissonverteilt ist. \n",
    "\n",
    "$$X_i: \\text{Anzahl matches auf Tinder innerhalb einer Stunde i, mit } X_i \\sim Poiss(\\lambda)$$"
   ]
  },
  {
   "cell_type": "markdown",
   "metadata": {
    "slideshow": {
     "slide_type": "skip"
    }
   },
   "source": [
    "Zur Erinnerung, wir hatten zwei Dinge herausgefunden:\n",
    "1. wir benötigen einen Erfahrungswert für die durchschnittliche Anzahl matches pro Stunde $\\lambda$\n",
    "2. sobald wir einen Wert für $\\lambda$ haben, können wir die Wahrscheinlichkeit verschiedener Ergebnisse $x$ berechnen: $$P(X_i=x_i) = \\frac{\\lambda^{x_i}}{x_i!} \\exp(-\\lambda)$$\n",
    "\n",
    "Was wir damals noch nicht geklärt hatten war, wie schätzen wir dieses $\\lambda$ am besten? Denn ohne einen guten Wert für $\\lambda$, werden wir keine realistischen Wahrscheinlichkeiten ausrechnen können. "
   ]
  },
  {
   "cell_type": "markdown",
   "metadata": {
    "slideshow": {
     "slide_type": "slide"
    }
   },
   "source": [
    "### Was ist das beste $\\lambda$ das wir wählen können?\n"
   ]
  },
  {
   "cell_type": "markdown",
   "metadata": {
    "slideshow": {
     "slide_type": "skip"
    }
   },
   "source": [
    "Um diese Frage zu beantworten, müssen wir zuerst ein paar Daten erheben. Nehmen wir an, dass wir dazu eine Woche lang, acht Stunden pro Tag auf Tinder ununterbrochen nach rechts wischen und unsere Beobachtungen notieren.\n",
    "\n",
    "Wir interessieren uns für:\n",
    "* die Anzahl Matches innerhalb einer Stunde.\n",
    "* die Zeit die vergeht, bis wir unser erstes Match kriegen.\n",
    "\n",
    "Wir erheben also 56 einzelne Datenpunkte und sehen die ersten 5 Ergebnisse dieser Woche auf Tinder in der Tabelle:"
   ]
  },
  {
   "cell_type": "code",
   "execution_count": 2,
   "metadata": {
    "slideshow": {
     "slide_type": "slide"
    }
   },
   "outputs": [
    {
     "data": {
      "text/html": [
       "<div>\n",
       "<style scoped>\n",
       "    .dataframe tbody tr th:only-of-type {\n",
       "        vertical-align: middle;\n",
       "    }\n",
       "\n",
       "    .dataframe tbody tr th {\n",
       "        vertical-align: top;\n",
       "    }\n",
       "\n",
       "    .dataframe thead th {\n",
       "        text-align: right;\n",
       "    }\n",
       "</style>\n",
       "<table border=\"1\" class=\"dataframe\">\n",
       "  <thead>\n",
       "    <tr style=\"text-align: right;\">\n",
       "      <th></th>\n",
       "      <th>Anzahl Matches</th>\n",
       "      <th>Zeit bis zum ersten Match</th>\n",
       "    </tr>\n",
       "    <tr>\n",
       "      <th>Zeit</th>\n",
       "      <th></th>\n",
       "      <th></th>\n",
       "    </tr>\n",
       "  </thead>\n",
       "  <tbody>\n",
       "    <tr>\n",
       "      <th>2018-12-01 18:00:00</th>\n",
       "      <td>4</td>\n",
       "      <td>0.034403</td>\n",
       "    </tr>\n",
       "    <tr>\n",
       "      <th>2018-12-01 21:00:00</th>\n",
       "      <td>0</td>\n",
       "      <td>NaN</td>\n",
       "    </tr>\n",
       "    <tr>\n",
       "      <th>2018-12-01 23:00:00</th>\n",
       "      <td>1</td>\n",
       "      <td>0.177634</td>\n",
       "    </tr>\n",
       "    <tr>\n",
       "      <th>2018-12-02 02:00:00</th>\n",
       "      <td>2</td>\n",
       "      <td>0.348853</td>\n",
       "    </tr>\n",
       "    <tr>\n",
       "      <th>2018-12-02 05:00:00</th>\n",
       "      <td>3</td>\n",
       "      <td>0.056726</td>\n",
       "    </tr>\n",
       "  </tbody>\n",
       "</table>\n",
       "</div>"
      ],
      "text/plain": [
       "                     Anzahl Matches  Zeit bis zum ersten Match\n",
       "Zeit                                                          \n",
       "2018-12-01 18:00:00               4                   0.034403\n",
       "2018-12-01 21:00:00               0                        NaN\n",
       "2018-12-01 23:00:00               1                   0.177634\n",
       "2018-12-02 02:00:00               2                   0.348853\n",
       "2018-12-02 05:00:00               3                   0.056726"
      ]
     },
     "execution_count": 2,
     "metadata": {},
     "output_type": "execute_result"
    }
   ],
   "source": [
    "path = os.path.join(\"..\", \"data\", \"tinder_ML.csv\")\n",
    "tinder = pd.read_csv(path, index_col=[\"Zeit\"])\n",
    "tinder.head()"
   ]
  },
  {
   "cell_type": "markdown",
   "metadata": {
    "slideshow": {
     "slide_type": "slide"
    }
   },
   "source": [
    "### Wie wahrscheinlich ist es, dass wir genau diese Daten bekommen?"
   ]
  },
  {
   "cell_type": "markdown",
   "metadata": {
    "slideshow": {
     "slide_type": "skip"
    }
   },
   "source": [
    "Wir können diese Frage ein wenig umformulieren, um sie bequemer beantworten zu können. Wir suchen nämlich nach der **gemeinsamen Wahrscheinlichkeit** des beobachteten Ereignisses. Oder anders gesagt, wir fragen uns, wie wahrscheinlich war es, dass in der\n",
    "1. Stunde 4 Matches und in der \n",
    "2. Stunde 0 Matches und in der\n",
    "3. Stunde 1 Match und in der\n",
    "4. Stunde 2 Matches und in der\n",
    "5. Stunde 3 Matches und in der ...\n",
    "\n",
    "Wir können das wieder in mathematische Ausdrücke umformulieren:\n",
    "$$P(X=x_{Daten}) = P(\\{X_1=4\\} \\cap \\{X_2=0\\} \\cap \\{X_3=1\\} \\cap \\{X_4=2\\} \\cap \\{X_5=3\\} \\cap \\dots)$$\n",
    "\n",
    "Und unter den vereinfachenden Annahmen\n",
    "* $\\color{blue}{\\textit{identisch verteilte}}$ $X_i$ und\n",
    "* $\\color{orange}{unabhängige}$ $X_i$\n",
    "\n",
    "Können wir die **gemeinsame Wahrscheinlichkeit** viel einfacher ausdrücken. <br>\n",
    "Wenn alle $X_i$ $\\color{orange}{unabhängig}$ sind, kann man die gemeinsame Wahrscheinlichkeit als Produkt schreiben:\n",
    "\n",
    "$$\n",
    "P(X=x_{Daten}) = P_1(\\{X_1=4\\} \\cdot P_2(\\{X_2=0\\}) \\cdot P_3(\\{X_3=1\\}) \\cdot P_4(\\{X_4=2\\}) \\cdot P_5(\\{X_5=3\\}) \\cdot \\dots\n",
    "$$\n",
    "\n",
    "Und wenn alle $X_i \\color{blue}{\\textit{ identisch verteilt}}$ sind, haben alle $X_i$ dieselbe Wahrscheinlichkeitsfunktion, also kann man die Subskripte weglassen:\n",
    "\n",
    "\\begin{align}\n",
    "P(X=x_{Daten}) &= P(\\{X_1=4\\} \\cdot P(\\{X_2=0\\}) \\cdot P(\\{X_3=1\\}) \\cdot P(\\{X_4=2\\}) \\cdot P(\\{X_5=3\\}) \\cdot \\dots \\\\ \n",
    "&= \\prod\\limits_{i=1}^n P(X_i=x_i)\n",
    "\\end{align}\n",
    "\n",
    "Jetzt können wir für $P$ eine Verteilungsfunktion einsetzen, die von einem Parameter abhängt (hier: $\\lambda$)\n",
    "\n",
    "$$\n",
    "P(X=x_{Daten}) = \\prod\\limits_{i=1}^n P(X_i=x_i) = \\prod\\limits_{i=1}^n \\frac{\\lambda^{x_i}}{x_i!} \\exp(-\\lambda) = \\exp(-n\\lambda) \\prod\\limits_{i=1}^n \\frac{\\lambda^{x_i}}{x_i!} \n",
    "$$\n",
    "\n",
    "Und damit haben wir einen Ausdruck, der nur noch von $\\lambda$ abhängt, da die $x_i$ bereits eingetroffen sind. Man nennt diesen Ausdruck auch die **Likelihood**-Funktion."
   ]
  },
  {
   "cell_type": "code",
   "execution_count": 3,
   "metadata": {
    "slideshow": {
     "slide_type": "skip"
    }
   },
   "outputs": [],
   "source": [
    "def poisson_likelihood(lam):\n",
    "    x_data = tinder[\"Anzahl Matches\"].values\n",
    "    n = len(x_data)\n",
    "    L = np.exp(-n*lam) * np.prod([lam**xi / np.math.factorial(xi) for xi in x_data], axis=0)\n",
    "    return L"
   ]
  },
  {
   "cell_type": "markdown",
   "metadata": {
    "slideshow": {
     "slide_type": "skip"
    }
   },
   "source": [
    "### Zurück zur Frage: welches ist das beste $\\lambda$?\n",
    "\n",
    "Ganz einfach: wenn wir annehmen, das nichts furchtbar schief gelaufen ist und wir eine sehr unglückliche Stichprobe gezogen haben, dann sollten wir das $\\lambda$ wählen, welches die **gemeinsame Wahrscheinlichkeit genau diese Stichprobe** zu ziehen maximiert."
   ]
  },
  {
   "cell_type": "code",
   "execution_count": 9,
   "metadata": {
    "slideshow": {
     "slide_type": "skip"
    }
   },
   "outputs": [],
   "source": [
    "def likelihood_viewer(lam=1.5):\n",
    "    xaxis = np.linspace(0, lam, num=1000)\n",
    "    yaxis = poisson_likelihood(xaxis)\n",
    "    \n",
    "    fig, ax = plt.subplots(figsize=(15, 5))\n",
    "    label = r\"Likelihood für $\\lambda$={:3.3}\".format(lam)\n",
    "    ax.plot(xaxis, yaxis, c=\"orange\", label=\"Likelihood\", lw=3)\n",
    "    ax.plot(xaxis[-1], yaxis[-1], \"o\", c=\"red\", label=label)\n",
    "    \n",
    "    ax.set_xlim([0, 6])\n",
    "    ax.set_ylim([-1e-49, 4e-48])\n",
    "    \n",
    "    fig.suptitle(r\"Likelihood für verschiedene $\\lambda$\", fontsize=16)\n",
    "    plt.legend()\n",
    "\n",
    "lambda_slider = FloatSlider(min=0.01, max=6, value=1.5, step=0.01, description=r\"$\\lambda$\");"
   ]
  },
  {
   "cell_type": "markdown",
   "metadata": {},
   "source": [
    "$$\n",
    "L(\\lambda) = \\exp(-n\\lambda)\\prod\\limits_{i=1}^n \\frac{\\lambda^{x_i}}{x_i !}\n",
    "$$"
   ]
  },
  {
   "cell_type": "code",
   "execution_count": 10,
   "metadata": {
    "slideshow": {
     "slide_type": "fragment"
    }
   },
   "outputs": [
    {
     "data": {
      "application/vnd.jupyter.widget-view+json": {
       "model_id": "be0c9b4cd9f044739a4c896f01607fb9",
       "version_major": 2,
       "version_minor": 0
      },
      "text/plain": [
       "interactive(children=(FloatSlider(value=1.5, description='$\\\\lambda$', max=6.0, min=0.01, step=0.01), Output()…"
      ]
     },
     "metadata": {},
     "output_type": "display_data"
    }
   ],
   "source": [
    "interact(likelihood_viewer, lam=lambda_slider);"
   ]
  },
  {
   "cell_type": "markdown",
   "metadata": {
    "slideshow": {
     "slide_type": "skip"
    }
   },
   "source": [
    "Uns sollten mehrere Dinge auffallen:\n",
    "* wenn $\\lambda$ zu klein ist, nimmt auch die Likelihood-Funktion einen kleinen Wert an.\n",
    "* wenn $\\lambda$ zu groß ist, nimmt die Likelihood-Funktion einen Wert an der ebenfalls klein ist.\n",
    "* wir suchen also nach einer Goldlöckchen-Lösung."
   ]
  },
  {
   "cell_type": "markdown",
   "metadata": {
    "slideshow": {
     "slide_type": "slide"
    }
   },
   "source": [
    "### Optimieren der Likelihood-Funktion"
   ]
  },
  {
   "cell_type": "markdown",
   "metadata": {
    "slideshow": {
     "slide_type": "skip"
    }
   },
   "source": [
    "#### 0. Logarithmieren\n",
    "\n",
    "Du dachtest wir würden gleich mit dem Ableiten beginnen, was? Die Funktion hier ist noch ok, wir müssten die Produkt und gegebenenfalls die Kettenregel anwenden - aber meine Güte, was wäre das für ein Aufwand!\n",
    "\n",
    "Stattdessen verwenden wir eine monotone Transformation, die aus Produkten Summen macht. Und weil sie monoton ist, verändert sie die Lage des Maximums nicht. Wir logarithmieren die Likelihood-Funktion und bekommen so die **log-Likelihood-Funktion** $l$:\n",
    "\n",
    "\\begin{align}\n",
    "l &= \\log(L) = \\log\\left(\\exp(-n\\lambda) \\prod\\limits_{i=1}^n \\frac{\\lambda^{x_i}}{x_i!}\\right) \\\\\n",
    "  &= \\log\\left(\\exp(-n\\lambda)\\right) +  \\log\\left( \\prod\\limits_{i=1}^n \\frac{\\lambda^{x_i}}{x_i!} \\right) \\\\\n",
    "  &= -n\\lambda + \\sum\\limits_{i=1}^n \\log\\left( \\frac{\\lambda^{x_i}}{x_i!} \\right)\n",
    "\\end{align}\n",
    "\n",
    "Und die können wir relativ bequem ableiten\n",
    "\n",
    "#### 1. Ableitung gleich Null setzen\n",
    "\n",
    "\\begin{align}\n",
    "\\frac{\\partial l}{\\partial \\lambda} &= -n + \\sum\\limits_{i=1}^n \\overbrace{\\frac{1}{\\frac{\\lambda^{x_i}}{x_i!}}}^{\\text{Äußere Ableitung}} \\cdot \\underbrace{\\frac{x_i}{x_i!} \\lambda^{x_i - 1}}_{\\text{innere Ableitung}} \\\\\n",
    "  &= -n + \\sum\\limits_{i=1}^n \\frac{x_i}{\\lambda^{x_i}} \\lambda^{x_i - 1} = -n + \\sum\\limits_{i=1}^n \\frac{x_i \\color{red}{\\lambda^{x_i}}}{\\color{red}{\\lambda^{x_i}}\\cdot\\lambda} \\\\\n",
    "  &= -n + \\frac{1}{\\lambda} \\sum\\limits_{i=1}^n x_i \\stackrel{!}{=} 0\n",
    "\\end{align}\n",
    "\n",
    "Das ist unsere notwendige Bedingung um ein Maximum zu finden.\n",
    "\n",
    "\\begin{align}\n",
    "0 &\\stackrel{!}{=} -n + \\frac{1}{\\lambda} \\sum\\limits_{i=1}^n x_i \\\\\n",
    "\\Leftrightarrow \\lambda_{ML}^* &= \\frac{1}{n}\\sum\\limits_{i=1}^n x_i \n",
    "\\end{align}\n",
    "\n",
    "Und wir sehen, dass der beste Schätzer das arithmetische Mittel war."
   ]
  },
  {
   "cell_type": "code",
   "execution_count": 17,
   "metadata": {
    "slideshow": {
     "slide_type": "skip"
    }
   },
   "outputs": [],
   "source": [
    "def plot_likelihoods():\n",
    "    fig, ax = plt.subplots(nrows=2, ncols=1, figsize=(15, 10), sharex=True)\n",
    "    x = np.linspace(2, 4, num=1000)\n",
    "    y1 = poisson_likelihood(x)\n",
    "    y2 = np.log(y1)\n",
    "    xbar = tinder[\"Anzahl Matches\"].values.mean()\n",
    "    label = r\"$\\lambda_{ML}^*\" + \"= {:3.2}$\".format(xbar)\n",
    "\n",
    "    ax[0].plot(x, y1, c=\"orange\", lw=3)\n",
    "    ax[0].plot([xbar, xbar], [-1, 1])\n",
    "    ax[0].set_ylim([0, 4e-48])\n",
    "    ax[0].set_title(\"Likelihood\")\n",
    "    ax[1].plot(x, y2, c=\"orange\", lw=3)\n",
    "    ax[1].plot([xbar, xbar], [-175, -100], label=label)\n",
    "    ax[1].set_title(\"Log-Likelihood\")\n",
    "    ax[1].set_ylim([-120, -108])\n",
    "    plt.legend()\n",
    "    plt.tight_layout()\n",
    "    return fig, ax"
   ]
  },
  {
   "cell_type": "code",
   "execution_count": 18,
   "metadata": {
    "slideshow": {
     "slide_type": "slide"
    }
   },
   "outputs": [
    {
     "data": {
      "image/png": "[encoded data removed]",
      "text/plain": [
       "<Figure size 1080x720 with 2 Axes>"
      ]
     },
     "metadata": {
      "needs_background": "light"
     },
     "output_type": "display_data"
    }
   ],
   "source": [
    "plot_likelihoods();"
   ]
  },
  {
   "cell_type": "markdown",
   "metadata": {
    "slideshow": {
     "slide_type": "skip"
    }
   },
   "source": [
    "## Wartezeit auf das erste Match"
   ]
  }
 ],
 "metadata": {
  "celltoolbar": "Slideshow",
  "kernelspec": {
   "display_name": "Python 3",
   "language": "python",
   "name": "python3"
  },
  "language_info": {
   "codemirror_mode": {
    "name": "ipython",
    "version": 3
   },
   "file_extension": ".py",
   "mimetype": "text/x-python",
   "name": "python",
   "nbconvert_exporter": "python",
   "pygments_lexer": "ipython3",
   "version": "3.6.7"
  }
 },
 "nbformat": 4,
 "nbformat_minor": 2
}
